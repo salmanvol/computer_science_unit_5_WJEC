{
  "metadata": {
    "language_info": {
      "codemirror_mode": {
        "name": "python",
        "version": 3
      },
      "file_extension": ".py",
      "mimetype": "text/x-python",
      "name": "python",
      "nbconvert_exporter": "python",
      "pygments_lexer": "ipython3",
      "version": "3.8"
    },
    "kernelspec": {
      "name": "python",
      "display_name": "Python (Pyodide)",
      "language": "python"
    }
  },
  "nbformat_minor": 4,
  "nbformat": 4,
  "cells": [
    {
      "cell_type": "code",
      "source": "import pandas as pd",
      "metadata": {
        "trusted": true
      },
      "execution_count": null,
      "outputs": []
    },
    {
      "cell_type": "code",
      "source": "df = pd.read_csv('books.csv')",
      "metadata": {
        "trusted": true
      },
      "execution_count": 4,
      "outputs": []
    },
    {
      "cell_type": "code",
      "source": "print(df.head())",
      "metadata": {
        "trusted": true
      },
      "execution_count": 5,
      "outputs": [
        {
          "name": "stdout",
          "text": "                      Title            Author              Genre  Height  \\\n0  Fundamentals of Wavelets  Goswami, Jaideva  signal_processing     228   \n1                Data Smart     Foreman, John       data_science     235   \n2  God Created the Integers  Hawking, Stephen        mathematics     197   \n3         Superfreakonomics   Dubner, Stephen          economics     179   \n4               Orientalism      Said, Edward            history     197   \n\n       Publisher  \n0          Wiley  \n1          Wiley  \n2        Penguin  \n3  HarperCollins  \n4        Penguin  \n",
          "output_type": "stream"
        }
      ]
    },
    {
      "cell_type": "code",
      "source": "df = df.drop('Publisher', axis=1).drop('Height', axis=1)",
      "metadata": {
        "trusted": true
      },
      "execution_count": 6,
      "outputs": []
    },
    {
      "cell_type": "code",
      "source": "df = df.drop_duplicates()\n",
      "metadata": {
        "trusted": true
      },
      "execution_count": 7,
      "outputs": []
    },
    {
      "cell_type": "code",
      "source": "df = df.dropna(axis=0)\n",
      "metadata": {
        "trusted": true
      },
      "execution_count": 8,
      "outputs": []
    },
    {
      "cell_type": "code",
      "source": "print(df.head())",
      "metadata": {
        "trusted": true
      },
      "execution_count": 9,
      "outputs": [
        {
          "name": "stdout",
          "text": "                      Title            Author              Genre\n0  Fundamentals of Wavelets  Goswami, Jaideva  signal_processing\n1                Data Smart     Foreman, John       data_science\n2  God Created the Integers  Hawking, Stephen        mathematics\n3         Superfreakonomics   Dubner, Stephen          economics\n4               Orientalism      Said, Edward            history\n",
          "output_type": "stream"
        }
      ]
    },
    {
      "cell_type": "code",
      "source": "def clean_text(author):\n    result = str(author).lower()\n    return(result.replace(' ',''))",
      "metadata": {
        "trusted": true
      },
      "execution_count": 10,
      "outputs": []
    },
    {
      "cell_type": "code",
      "source": "df['Author'] = df['Author'].apply(clean_text)\n",
      "metadata": {
        "trusted": true
      },
      "execution_count": 11,
      "outputs": []
    },
    {
      "cell_type": "code",
      "source": "df",
      "metadata": {
        "trusted": true
      },
      "execution_count": 12,
      "outputs": [
        {
          "execution_count": 12,
          "output_type": "execute_result",
          "data": {
            "text/plain": "                            Title             Author              Genre\n0        Fundamentals of Wavelets    goswami,jaideva  signal_processing\n1                      Data Smart       foreman,john       data_science\n2        God Created the Integers    hawking,stephen        mathematics\n3               Superfreakonomics     dubner,stephen          economics\n4                     Orientalism        said,edward            history\n..                            ...                ...                ...\n206      Structure and Randomness        tao,terence        mathematics\n207  Image Processing with MATLAB       eddins,steve  signal_processing\n208                   Animal Farm      orwell,george            fiction\n209                    Idiot, The  dostoevsky,fyodor            fiction\n210            Christmas Carol, A    dickens,charles            fiction\n\n[186 rows x 3 columns]",
            "text/html": "<div>\n<style scoped>\n    .dataframe tbody tr th:only-of-type {\n        vertical-align: middle;\n    }\n\n    .dataframe tbody tr th {\n        vertical-align: top;\n    }\n\n    .dataframe thead th {\n        text-align: right;\n    }\n</style>\n<table border=\"1\" class=\"dataframe\">\n  <thead>\n    <tr style=\"text-align: right;\">\n      <th></th>\n      <th>Title</th>\n      <th>Author</th>\n      <th>Genre</th>\n    </tr>\n  </thead>\n  <tbody>\n    <tr>\n      <th>0</th>\n      <td>Fundamentals of Wavelets</td>\n      <td>goswami,jaideva</td>\n      <td>signal_processing</td>\n    </tr>\n    <tr>\n      <th>1</th>\n      <td>Data Smart</td>\n      <td>foreman,john</td>\n      <td>data_science</td>\n    </tr>\n    <tr>\n      <th>2</th>\n      <td>God Created the Integers</td>\n      <td>hawking,stephen</td>\n      <td>mathematics</td>\n    </tr>\n    <tr>\n      <th>3</th>\n      <td>Superfreakonomics</td>\n      <td>dubner,stephen</td>\n      <td>economics</td>\n    </tr>\n    <tr>\n      <th>4</th>\n      <td>Orientalism</td>\n      <td>said,edward</td>\n      <td>history</td>\n    </tr>\n    <tr>\n      <th>...</th>\n      <td>...</td>\n      <td>...</td>\n      <td>...</td>\n    </tr>\n    <tr>\n      <th>206</th>\n      <td>Structure and Randomness</td>\n      <td>tao,terence</td>\n      <td>mathematics</td>\n    </tr>\n    <tr>\n      <th>207</th>\n      <td>Image Processing with MATLAB</td>\n      <td>eddins,steve</td>\n      <td>signal_processing</td>\n    </tr>\n    <tr>\n      <th>208</th>\n      <td>Animal Farm</td>\n      <td>orwell,george</td>\n      <td>fiction</td>\n    </tr>\n    <tr>\n      <th>209</th>\n      <td>Idiot, The</td>\n      <td>dostoevsky,fyodor</td>\n      <td>fiction</td>\n    </tr>\n    <tr>\n      <th>210</th>\n      <td>Christmas Carol, A</td>\n      <td>dickens,charles</td>\n      <td>fiction</td>\n    </tr>\n  </tbody>\n</table>\n<p>186 rows × 3 columns</p>\n</div>"
          },
          "metadata": {}
        }
      ]
    },
    {
      "cell_type": "code",
      "source": "df['Title'] = df['Title'].str.lower()",
      "metadata": {
        "trusted": true
      },
      "execution_count": 13,
      "outputs": []
    },
    {
      "cell_type": "code",
      "source": "df",
      "metadata": {
        "trusted": true
      },
      "execution_count": 14,
      "outputs": [
        {
          "execution_count": 14,
          "output_type": "execute_result",
          "data": {
            "text/plain": "                            Title             Author              Genre\n0        fundamentals of wavelets    goswami,jaideva  signal_processing\n1                      data smart       foreman,john       data_science\n2        god created the integers    hawking,stephen        mathematics\n3               superfreakonomics     dubner,stephen          economics\n4                     orientalism        said,edward            history\n..                            ...                ...                ...\n206      structure and randomness        tao,terence        mathematics\n207  image processing with matlab       eddins,steve  signal_processing\n208                   animal farm      orwell,george            fiction\n209                    idiot, the  dostoevsky,fyodor            fiction\n210            christmas carol, a    dickens,charles            fiction\n\n[186 rows x 3 columns]",
            "text/html": "<div>\n<style scoped>\n    .dataframe tbody tr th:only-of-type {\n        vertical-align: middle;\n    }\n\n    .dataframe tbody tr th {\n        vertical-align: top;\n    }\n\n    .dataframe thead th {\n        text-align: right;\n    }\n</style>\n<table border=\"1\" class=\"dataframe\">\n  <thead>\n    <tr style=\"text-align: right;\">\n      <th></th>\n      <th>Title</th>\n      <th>Author</th>\n      <th>Genre</th>\n    </tr>\n  </thead>\n  <tbody>\n    <tr>\n      <th>0</th>\n      <td>fundamentals of wavelets</td>\n      <td>goswami,jaideva</td>\n      <td>signal_processing</td>\n    </tr>\n    <tr>\n      <th>1</th>\n      <td>data smart</td>\n      <td>foreman,john</td>\n      <td>data_science</td>\n    </tr>\n    <tr>\n      <th>2</th>\n      <td>god created the integers</td>\n      <td>hawking,stephen</td>\n      <td>mathematics</td>\n    </tr>\n    <tr>\n      <th>3</th>\n      <td>superfreakonomics</td>\n      <td>dubner,stephen</td>\n      <td>economics</td>\n    </tr>\n    <tr>\n      <th>4</th>\n      <td>orientalism</td>\n      <td>said,edward</td>\n      <td>history</td>\n    </tr>\n    <tr>\n      <th>...</th>\n      <td>...</td>\n      <td>...</td>\n      <td>...</td>\n    </tr>\n    <tr>\n      <th>206</th>\n      <td>structure and randomness</td>\n      <td>tao,terence</td>\n      <td>mathematics</td>\n    </tr>\n    <tr>\n      <th>207</th>\n      <td>image processing with matlab</td>\n      <td>eddins,steve</td>\n      <td>signal_processing</td>\n    </tr>\n    <tr>\n      <th>208</th>\n      <td>animal farm</td>\n      <td>orwell,george</td>\n      <td>fiction</td>\n    </tr>\n    <tr>\n      <th>209</th>\n      <td>idiot, the</td>\n      <td>dostoevsky,fyodor</td>\n      <td>fiction</td>\n    </tr>\n    <tr>\n      <th>210</th>\n      <td>christmas carol, a</td>\n      <td>dickens,charles</td>\n      <td>fiction</td>\n    </tr>\n  </tbody>\n</table>\n<p>186 rows × 3 columns</p>\n</div>"
          },
          "metadata": {}
        }
      ]
    },
    {
      "cell_type": "code",
      "source": "df2['data'] = df2[df2.columns[1:]].apply(\n    lambda x: ' '.join(x.dropna().astype(str)),\n    axis=1\n)",
      "metadata": {
        "trusted": true
      },
      "execution_count": 15,
      "outputs": [
        {
          "ename": "<class 'NameError'>",
          "evalue": "name 'df2' is not defined",
          "traceback": [
            "\u001b[0;31m---------------------------------------------------------------------------\u001b[0m",
            "\u001b[0;31mNameError\u001b[0m                                 Traceback (most recent call last)",
            "Cell \u001b[0;32mIn[15], line 1\u001b[0m\n\u001b[0;32m----> 1\u001b[0m df2[\u001b[38;5;124m'\u001b[39m\u001b[38;5;124mdata\u001b[39m\u001b[38;5;124m'\u001b[39m] \u001b[38;5;241m=\u001b[39m \u001b[43mdf2\u001b[49m[df2\u001b[38;5;241m.\u001b[39mcolumns[\u001b[38;5;241m1\u001b[39m:]]\u001b[38;5;241m.\u001b[39mapply(\n\u001b[1;32m      2\u001b[0m     \u001b[38;5;28;01mlambda\u001b[39;00m x: \u001b[38;5;124m'\u001b[39m\u001b[38;5;124m \u001b[39m\u001b[38;5;124m'\u001b[39m\u001b[38;5;241m.\u001b[39mjoin(x\u001b[38;5;241m.\u001b[39mdropna()\u001b[38;5;241m.\u001b[39mastype(\u001b[38;5;28mstr\u001b[39m)),\n\u001b[1;32m      3\u001b[0m     axis\u001b[38;5;241m=\u001b[39m\u001b[38;5;241m1\u001b[39m\n\u001b[1;32m      4\u001b[0m )\n",
            "\u001b[0;31mNameError\u001b[0m: name 'df2' is not defined"
          ],
          "output_type": "error"
        }
      ]
    },
    {
      "cell_type": "code",
      "source": "df['data'] = df2[df2.columns[1:]].apply(\n    lambda x: ' '.join(x.dropna().astype(str)),\n    axis=1\n)",
      "metadata": {
        "trusted": true
      },
      "execution_count": 16,
      "outputs": [
        {
          "ename": "<class 'NameError'>",
          "evalue": "name 'df2' is not defined",
          "traceback": [
            "\u001b[0;31m---------------------------------------------------------------------------\u001b[0m",
            "\u001b[0;31mNameError\u001b[0m                                 Traceback (most recent call last)",
            "Cell \u001b[0;32mIn[16], line 1\u001b[0m\n\u001b[0;32m----> 1\u001b[0m df[\u001b[38;5;124m'\u001b[39m\u001b[38;5;124mdata\u001b[39m\u001b[38;5;124m'\u001b[39m] \u001b[38;5;241m=\u001b[39m \u001b[43mdf2\u001b[49m[df2\u001b[38;5;241m.\u001b[39mcolumns[\u001b[38;5;241m1\u001b[39m:]]\u001b[38;5;241m.\u001b[39mapply(\n\u001b[1;32m      2\u001b[0m     \u001b[38;5;28;01mlambda\u001b[39;00m x: \u001b[38;5;124m'\u001b[39m\u001b[38;5;124m \u001b[39m\u001b[38;5;124m'\u001b[39m\u001b[38;5;241m.\u001b[39mjoin(x\u001b[38;5;241m.\u001b[39mdropna()\u001b[38;5;241m.\u001b[39mastype(\u001b[38;5;28mstr\u001b[39m)),\n\u001b[1;32m      3\u001b[0m     axis\u001b[38;5;241m=\u001b[39m\u001b[38;5;241m1\u001b[39m\n\u001b[1;32m      4\u001b[0m )\n",
            "\u001b[0;31mNameError\u001b[0m: name 'df2' is not defined"
          ],
          "output_type": "error"
        }
      ]
    },
    {
      "cell_type": "code",
      "source": "df2 = df",
      "metadata": {
        "trusted": true
      },
      "execution_count": 17,
      "outputs": []
    },
    {
      "cell_type": "code",
      "source": "df2['data'] = df2[df2.columns[1:]].apply(\n    lambda x: ' '.join(x.dropna().astype(str)),\n    axis=1\n)",
      "metadata": {
        "trusted": true
      },
      "execution_count": 18,
      "outputs": []
    },
    {
      "cell_type": "code",
      "source": "df2",
      "metadata": {
        "trusted": true
      },
      "execution_count": 19,
      "outputs": [
        {
          "execution_count": 19,
          "output_type": "execute_result",
          "data": {
            "text/plain": "                            Title             Author              Genre  \\\n0        fundamentals of wavelets    goswami,jaideva  signal_processing   \n1                      data smart       foreman,john       data_science   \n2        god created the integers    hawking,stephen        mathematics   \n3               superfreakonomics     dubner,stephen          economics   \n4                     orientalism        said,edward            history   \n..                            ...                ...                ...   \n206      structure and randomness        tao,terence        mathematics   \n207  image processing with matlab       eddins,steve  signal_processing   \n208                   animal farm      orwell,george            fiction   \n209                    idiot, the  dostoevsky,fyodor            fiction   \n210            christmas carol, a    dickens,charles            fiction   \n\n                                  data  \n0    goswami,jaideva signal_processing  \n1            foreman,john data_science  \n2          hawking,stephen mathematics  \n3             dubner,stephen economics  \n4                  said,edward history  \n..                                 ...  \n206            tao,terence mathematics  \n207     eddins,steve signal_processing  \n208              orwell,george fiction  \n209          dostoevsky,fyodor fiction  \n210            dickens,charles fiction  \n\n[186 rows x 4 columns]",
            "text/html": "<div>\n<style scoped>\n    .dataframe tbody tr th:only-of-type {\n        vertical-align: middle;\n    }\n\n    .dataframe tbody tr th {\n        vertical-align: top;\n    }\n\n    .dataframe thead th {\n        text-align: right;\n    }\n</style>\n<table border=\"1\" class=\"dataframe\">\n  <thead>\n    <tr style=\"text-align: right;\">\n      <th></th>\n      <th>Title</th>\n      <th>Author</th>\n      <th>Genre</th>\n      <th>data</th>\n    </tr>\n  </thead>\n  <tbody>\n    <tr>\n      <th>0</th>\n      <td>fundamentals of wavelets</td>\n      <td>goswami,jaideva</td>\n      <td>signal_processing</td>\n      <td>goswami,jaideva signal_processing</td>\n    </tr>\n    <tr>\n      <th>1</th>\n      <td>data smart</td>\n      <td>foreman,john</td>\n      <td>data_science</td>\n      <td>foreman,john data_science</td>\n    </tr>\n    <tr>\n      <th>2</th>\n      <td>god created the integers</td>\n      <td>hawking,stephen</td>\n      <td>mathematics</td>\n      <td>hawking,stephen mathematics</td>\n    </tr>\n    <tr>\n      <th>3</th>\n      <td>superfreakonomics</td>\n      <td>dubner,stephen</td>\n      <td>economics</td>\n      <td>dubner,stephen economics</td>\n    </tr>\n    <tr>\n      <th>4</th>\n      <td>orientalism</td>\n      <td>said,edward</td>\n      <td>history</td>\n      <td>said,edward history</td>\n    </tr>\n    <tr>\n      <th>...</th>\n      <td>...</td>\n      <td>...</td>\n      <td>...</td>\n      <td>...</td>\n    </tr>\n    <tr>\n      <th>206</th>\n      <td>structure and randomness</td>\n      <td>tao,terence</td>\n      <td>mathematics</td>\n      <td>tao,terence mathematics</td>\n    </tr>\n    <tr>\n      <th>207</th>\n      <td>image processing with matlab</td>\n      <td>eddins,steve</td>\n      <td>signal_processing</td>\n      <td>eddins,steve signal_processing</td>\n    </tr>\n    <tr>\n      <th>208</th>\n      <td>animal farm</td>\n      <td>orwell,george</td>\n      <td>fiction</td>\n      <td>orwell,george fiction</td>\n    </tr>\n    <tr>\n      <th>209</th>\n      <td>idiot, the</td>\n      <td>dostoevsky,fyodor</td>\n      <td>fiction</td>\n      <td>dostoevsky,fyodor fiction</td>\n    </tr>\n    <tr>\n      <th>210</th>\n      <td>christmas carol, a</td>\n      <td>dickens,charles</td>\n      <td>fiction</td>\n      <td>dickens,charles fiction</td>\n    </tr>\n  </tbody>\n</table>\n<p>186 rows × 4 columns</p>\n</div>"
          },
          "metadata": {}
        }
      ]
    },
    {
      "cell_type": "code",
      "source": "from sklearn.feature_extraction.text import CountVectorizer\n",
      "metadata": {
        "trusted": true
      },
      "execution_count": 20,
      "outputs": []
    },
    {
      "cell_type": "code",
      "source": "vectorizer = CountVectorizer()\nvectorized = vectorizer.fit_transform(df2['data'])",
      "metadata": {
        "trusted": true
      },
      "execution_count": 21,
      "outputs": []
    },
    {
      "cell_type": "code",
      "source": "from sklearn.metrics.pairwise import cosine_similarity\n\nsimilarities = cosine_similarity(vectorized)",
      "metadata": {
        "trusted": true
      },
      "execution_count": 22,
      "outputs": []
    },
    {
      "cell_type": "code",
      "source": "print(similarities)\n",
      "metadata": {
        "trusted": true
      },
      "execution_count": 23,
      "outputs": [
        {
          "name": "stdout",
          "text": "[[1.         0.         0.         ... 0.         0.         0.        ]\n [0.         1.         0.         ... 0.         0.         0.        ]\n [0.         0.         1.         ... 0.         0.         0.        ]\n ...\n [0.         0.         0.         ... 1.         0.33333333 0.33333333]\n [0.         0.         0.         ... 0.33333333 1.         0.33333333]\n [0.         0.         0.         ... 0.33333333 0.33333333 1.        ]]\n",
          "output_type": "stream"
        }
      ]
    },
    {
      "cell_type": "code",
      "source": "df = pd.DataFrame(similarities, columns=df['Title'], index=df['Title']).reset_index()\n\ndf.head()",
      "metadata": {
        "trusted": true
      },
      "execution_count": 25,
      "outputs": [
        {
          "execution_count": 25,
          "output_type": "execute_result",
          "data": {
            "text/plain": "Title                     Title  fundamentals of wavelets  data smart  \\\n0      fundamentals of wavelets                       1.0         0.0   \n1                    data smart                       0.0         1.0   \n2      god created the integers                       0.0         0.0   \n3             superfreakonomics                       0.0         0.0   \n4                   orientalism                       0.0         0.0   \n\nTitle  god created the integers  superfreakonomics  orientalism  \\\n0                      0.000000           0.000000          0.0   \n1                      0.000000           0.000000          0.0   \n2                      1.000000           0.333333          0.0   \n3                      0.333333           1.000000          0.0   \n4                      0.000000           0.000000          1.0   \n\nTitle  nature of statistical learning theory, the  \\\n0                                        0.000000   \n1                                        0.333333   \n2                                        0.000000   \n3                                        0.000000   \n4                                        0.000000   \n\nTitle  integration of the indian states  drunkard's walk, the  \\\n0                              0.000000                   0.0   \n1                              0.000000                   0.0   \n2                              0.000000                   0.0   \n3                              0.000000                   0.0   \n4                              0.333333                   0.0   \n\nTitle  image processing & mathematical morphology  ...  eyeless in gaza  \\\n0                                        0.333333  ...              0.0   \n1                                        0.000000  ...              0.0   \n2                                        0.000000  ...              0.0   \n3                                        0.000000  ...              0.0   \n4                                        0.000000  ...              0.0   \n\nTitle  tales of beedle the bard  girl with the dragon tattoo  \\\n0                           0.0                          0.0   \n1                           0.0                          0.0   \n2                           0.0                          0.0   \n3                           0.0                          0.0   \n4                           0.0                          0.0   \n\nTitle  girl who kicked the hornet's nest  girl who played with fire  \\\n0                                    0.0                        0.0   \n1                                    0.0                        0.0   \n2                                    0.0                        0.0   \n3                                    0.0                        0.0   \n4                                    0.0                        0.0   \n\nTitle  structure and randomness  image processing with matlab  animal farm  \\\n0                      0.000000                      0.333333          0.0   \n1                      0.000000                      0.000000          0.0   \n2                      0.333333                      0.000000          0.0   \n3                      0.000000                      0.000000          0.0   \n4                      0.000000                      0.000000          0.0   \n\nTitle  idiot, the  christmas carol, a  \n0             0.0                 0.0  \n1             0.0                 0.0  \n2             0.0                 0.0  \n3             0.0                 0.0  \n4             0.0                 0.0  \n\n[5 rows x 187 columns]",
            "text/html": "<div>\n<style scoped>\n    .dataframe tbody tr th:only-of-type {\n        vertical-align: middle;\n    }\n\n    .dataframe tbody tr th {\n        vertical-align: top;\n    }\n\n    .dataframe thead th {\n        text-align: right;\n    }\n</style>\n<table border=\"1\" class=\"dataframe\">\n  <thead>\n    <tr style=\"text-align: right;\">\n      <th>Title</th>\n      <th>Title</th>\n      <th>fundamentals of wavelets</th>\n      <th>data smart</th>\n      <th>god created the integers</th>\n      <th>superfreakonomics</th>\n      <th>orientalism</th>\n      <th>nature of statistical learning theory, the</th>\n      <th>integration of the indian states</th>\n      <th>drunkard's walk, the</th>\n      <th>image processing &amp; mathematical morphology</th>\n      <th>...</th>\n      <th>eyeless in gaza</th>\n      <th>tales of beedle the bard</th>\n      <th>girl with the dragon tattoo</th>\n      <th>girl who kicked the hornet's nest</th>\n      <th>girl who played with fire</th>\n      <th>structure and randomness</th>\n      <th>image processing with matlab</th>\n      <th>animal farm</th>\n      <th>idiot, the</th>\n      <th>christmas carol, a</th>\n    </tr>\n  </thead>\n  <tbody>\n    <tr>\n      <th>0</th>\n      <td>fundamentals of wavelets</td>\n      <td>1.0</td>\n      <td>0.0</td>\n      <td>0.000000</td>\n      <td>0.000000</td>\n      <td>0.0</td>\n      <td>0.000000</td>\n      <td>0.000000</td>\n      <td>0.0</td>\n      <td>0.333333</td>\n      <td>...</td>\n      <td>0.0</td>\n      <td>0.0</td>\n      <td>0.0</td>\n      <td>0.0</td>\n      <td>0.0</td>\n      <td>0.000000</td>\n      <td>0.333333</td>\n      <td>0.0</td>\n      <td>0.0</td>\n      <td>0.0</td>\n    </tr>\n    <tr>\n      <th>1</th>\n      <td>data smart</td>\n      <td>0.0</td>\n      <td>1.0</td>\n      <td>0.000000</td>\n      <td>0.000000</td>\n      <td>0.0</td>\n      <td>0.333333</td>\n      <td>0.000000</td>\n      <td>0.0</td>\n      <td>0.000000</td>\n      <td>...</td>\n      <td>0.0</td>\n      <td>0.0</td>\n      <td>0.0</td>\n      <td>0.0</td>\n      <td>0.0</td>\n      <td>0.000000</td>\n      <td>0.000000</td>\n      <td>0.0</td>\n      <td>0.0</td>\n      <td>0.0</td>\n    </tr>\n    <tr>\n      <th>2</th>\n      <td>god created the integers</td>\n      <td>0.0</td>\n      <td>0.0</td>\n      <td>1.000000</td>\n      <td>0.333333</td>\n      <td>0.0</td>\n      <td>0.000000</td>\n      <td>0.000000</td>\n      <td>0.0</td>\n      <td>0.000000</td>\n      <td>...</td>\n      <td>0.0</td>\n      <td>0.0</td>\n      <td>0.0</td>\n      <td>0.0</td>\n      <td>0.0</td>\n      <td>0.333333</td>\n      <td>0.000000</td>\n      <td>0.0</td>\n      <td>0.0</td>\n      <td>0.0</td>\n    </tr>\n    <tr>\n      <th>3</th>\n      <td>superfreakonomics</td>\n      <td>0.0</td>\n      <td>0.0</td>\n      <td>0.333333</td>\n      <td>1.000000</td>\n      <td>0.0</td>\n      <td>0.000000</td>\n      <td>0.000000</td>\n      <td>0.0</td>\n      <td>0.000000</td>\n      <td>...</td>\n      <td>0.0</td>\n      <td>0.0</td>\n      <td>0.0</td>\n      <td>0.0</td>\n      <td>0.0</td>\n      <td>0.000000</td>\n      <td>0.000000</td>\n      <td>0.0</td>\n      <td>0.0</td>\n      <td>0.0</td>\n    </tr>\n    <tr>\n      <th>4</th>\n      <td>orientalism</td>\n      <td>0.0</td>\n      <td>0.0</td>\n      <td>0.000000</td>\n      <td>0.000000</td>\n      <td>1.0</td>\n      <td>0.000000</td>\n      <td>0.333333</td>\n      <td>0.0</td>\n      <td>0.000000</td>\n      <td>...</td>\n      <td>0.0</td>\n      <td>0.0</td>\n      <td>0.0</td>\n      <td>0.0</td>\n      <td>0.0</td>\n      <td>0.000000</td>\n      <td>0.000000</td>\n      <td>0.0</td>\n      <td>0.0</td>\n      <td>0.0</td>\n    </tr>\n  </tbody>\n</table>\n<p>5 rows × 187 columns</p>\n</div>"
          },
          "metadata": {}
        }
      ]
    },
    {
      "cell_type": "code",
      "source": "input_book = 'fundamentals of wavelets'\nrecommendations = pd.DataFrame(df.nlargest(11,input_book)['Title'])\nrecommendations = recommendations[recommendations['Title']!=input_book]\nprint(recommendations)",
      "metadata": {
        "trusted": true
      },
      "execution_count": 27,
      "outputs": [
        {
          "name": "stdout",
          "text": "                                          Title\n8    image processing & mathematical morphology\n182                image processing with matlab\n1                                    data smart\n2                      god created the integers\n3                             superfreakonomics\n4                                   orientalism\n5    nature of statistical learning theory, the\n6              integration of the indian states\n7                          drunkard's walk, the\n9             how to think like sherlock holmes\n",
          "output_type": "stream"
        }
      ]
    },
    {
      "cell_type": "code",
      "source": "input_book = 'animal farm'\nrecommendations = pd.DataFrame(df.nlargest(11,input_book)['Title'])\nrecommendations = recommendations[recommendations['Title']!=input_book]\nprint(recommendations)",
      "metadata": {
        "trusted": true
      },
      "execution_count": 28,
      "outputs": [
        {
          "name": "stdout",
          "text": "                              Title\n98   down and out in paris & london\n18             new machiavelli, the\n51                  in a free state\n114                to sir with love\n150                 batatyachi chal\n151                      hafasavnuk\n152                       urlasurla\n11              slaughterhouse five\n15                       trial, the\n27                    outsider, the\n",
          "output_type": "stream"
        }
      ]
    },
    {
      "cell_type": "code",
      "source": "input_book = 'orientalism'\nrecommendations = pd.DataFrame(df.nlargest(11,input_book)['Title'])\nrecommendations = recommendations[recommendations['Title']!=input_book]\nprint(recommendations)",
      "metadata": {
        "trusted": true
      },
      "execution_count": 29,
      "outputs": [
        {
          "name": "stdout",
          "text": "                                Title\n6    integration of the indian states\n14                  age of wrath, the\n70            all the president's men\n72                             scoop!\n74                   last mughal, the\n81   india from midnight to milennium\n83                       o jerusalem!\n85                freedom at midnight\n100             beyond the three seas\n106   great war for civilization, the\n",
          "output_type": "stream"
        }
      ]
    },
    {
      "cell_type": "code",
      "source": "input_book = 'freedom at midnight'\nrecommendations = pd.DataFrame(df.nlargest(11,input_book)['Title'])\nrecommendations = recommendations[recommendations['Title']!=input_book]\nprint(recommendations)",
      "metadata": {
        "trusted": true
      },
      "execution_count": 30,
      "outputs": [
        {
          "name": "stdout",
          "text": "                                Title\n83                       o jerusalem!\n84                   city of joy, the\n4                         orientalism\n6    integration of the indian states\n14                  age of wrath, the\n70            all the president's men\n72                             scoop!\n74                   last mughal, the\n81   india from midnight to milennium\n100             beyond the three seas\n",
          "output_type": "stream"
        }
      ]
    },
    {
      "cell_type": "code",
      "source": "input_book = 'beyond the three seas'\nrecommendations = pd.DataFrame(df.nlargest(11,input_book)['Title'])\nrecommendations = recommendations[recommendations['Title']!=input_book]\nprint(recommendations)",
      "metadata": {
        "trusted": true
      },
      "execution_count": 31,
      "outputs": [
        {
          "name": "stdout",
          "text": "                                Title\n74                   last mughal, the\n171                    city of djinns\n4                         orientalism\n6    integration of the indian states\n14                  age of wrath, the\n70            all the president's men\n72                             scoop!\n81   india from midnight to milennium\n83                       o jerusalem!\n85                freedom at midnight\n",
          "output_type": "stream"
        }
      ]
    },
    {
      "cell_type": "code",
      "source": "input_book = 'superfreakonomics'\nrecommendations = pd.DataFrame(df.nlargest(11,input_book)['Title'])\nrecommendations = recommendations[recommendations['Title']!=input_book]\nprint(recommendations)",
      "metadata": {
        "trusted": true
      },
      "execution_count": 32,
      "outputs": [
        {
          "name": "stdout",
          "text": "                                     Title\n43                            freakonomics\n57                    econometric analysis\n75   social choice & welfare, vol 39 no. 1\n2                 god created the integers\n30                  wealth of nations, the\n56             textbook of economic theory\n91               theory of everything, the\n92              new markets & other essays\n96               age of discontuinity, the\n110                  rationality & freedom\n",
          "output_type": "stream"
        }
      ]
    },
    {
      "cell_type": "code",
      "source": "input_book = 'rationality & freedom'\nrecommendations = pd.DataFrame(df.nlargest(11,input_book)['Title'])\nrecommendations = recommendations[recommendations['Title']!=input_book]\nprint(recommendations)",
      "metadata": {
        "trusted": true
      },
      "execution_count": 33,
      "outputs": [
        {
          "name": "stdout",
          "text": "                                    Title\n66              argumentative indian, the\n68                   idea of justice, the\n99                    identity & violence\n57                   econometric analysis\n75  social choice & welfare, vol 39 no. 1\n3                       superfreakonomics\n30                 wealth of nations, the\n43                           freakonomics\n56            textbook of economic theory\n92             new markets & other essays\n",
          "output_type": "stream"
        }
      ]
    },
    {
      "cell_type": "code",
      "source": "df2[1:50]",
      "metadata": {
        "trusted": true
      },
      "execution_count": 44,
      "outputs": [
        {
          "execution_count": 44,
          "output_type": "execute_result",
          "data": {
            "text/plain": "                                              Title              Author  \\\n1                                        data smart        foreman,john   \n2                          god created the integers     hawking,stephen   \n3                                 superfreakonomics      dubner,stephen   \n4                                       orientalism         said,edward   \n5        nature of statistical learning theory, the     vapnik,vladimir   \n6                  integration of the indian states            menon,vp   \n7                              drunkard's walk, the    mlodinow,leonard   \n8        image processing & mathematical morphology          shih,frank   \n9                 how to think like sherlock holmes     konnikova,maria   \n10                          data scientists at work  sebastiangutierrez   \n11                              slaughterhouse five       vonnegut,kurt   \n12                               birth of a theorem      villani,cedric   \n13  structure & interpretation of computer programs      sussman,gerald   \n14                                age of wrath, the       eraly,abraham   \n15                                       trial, the         kafka,frank   \n16                     statistical decision theory'          pratt,john   \n17                             data mining handbook       nisbet,robert   \n18                             new machiavelli, the          wells,h.g.   \n19                             physics & philosophy   heisenberg,werner   \n20                                  making software           oram,andy   \n21                                  analysis, vol i         tao,terence   \n22                     machine learning for hackers         conway,drew   \n23                        signal and the noise, the         silver,nate   \n24                         python for data analysis        mckinney,wes   \n25                       introduction to algorithms       cormen,thomas   \n26                    beautiful and the damned, the      deb,siddhartha   \n27                                    outsider, the        camus,albert   \n28            complete sherlock holmes, the - vol i   doyle,arthurconan   \n29           complete sherlock holmes, the - vol ii   doyle,arthurconan   \n30                           wealth of nations, the          smith,adam   \n31                        pillars of the earth, the         follett,ken   \n32                                       mein kampf        hitler,adolf   \n33                              tao of physics, the       capra,fritjof   \n34                  surely you're joking mr feynman     feynman,richard   \n35                              farewell to arms, a    hemingway,ernest   \n36                                     veteran, the   forsyth,frederick   \n37                                false impressions      archer,jeffery   \n38                                last lecture, the        pausch,randy   \n39                          return of the primitive            rand,ayn   \n40                                    jurassic park    crichton,michael   \n41                               russian journal, a      steinbeck,john   \n42                 tales of mystery and imagination      poe,edgarallen   \n43                                     freakonomics      dubner,stephen   \n44                          hidden connections, the       capra,fritjof   \n45                         story of philosophy, the         durant,will   \n46                                      asami asami        deshpande,pl   \n47                               journal of a novel      steinbeck,john   \n48                             once there was a war      steinbeck,john   \n49                                moon is down, the      steinbeck,john   \n\n                Genre                             data  \n1        data_science        foreman,john data_science  \n2         mathematics      hawking,stephen mathematics  \n3           economics         dubner,stephen economics  \n4             history              said,edward history  \n5        data_science     vapnik,vladimir data_science  \n6             history                 menon,vp history  \n7             science         mlodinow,leonard science  \n8   signal_processing     shih,frank signal_processing  \n9          psychology       konnikova,maria psychology  \n10       data_science  sebastiangutierrez data_science  \n11            fiction            vonnegut,kurt fiction  \n12        mathematics       villani,cedric mathematics  \n13   computer_science  sussman,gerald computer_science  \n14            history            eraly,abraham history  \n15            fiction              kafka,frank fiction  \n16       data_science          pratt,john data_science  \n17       data_science       nisbet,robert data_science  \n18            fiction               wells,h.g. fiction  \n19            science        heisenberg,werner science  \n20   computer_science       oram,andy computer_science  \n21        mathematics          tao,terence mathematics  \n22       data_science         conway,drew data_science  \n23       data_science         silver,nate data_science  \n24       data_science        mckinney,wes data_science  \n25   computer_science   cormen,thomas computer_science  \n26         nonfiction        deb,siddhartha nonfiction  \n27            fiction             camus,albert fiction  \n28            fiction        doyle,arthurconan fiction  \n29            fiction        doyle,arthurconan fiction  \n30          economics             smith,adam economics  \n31            fiction              follett,ken fiction  \n32         nonfiction          hitler,adolf nonfiction  \n33            science            capra,fritjof science  \n34            science          feynman,richard science  \n35            fiction         hemingway,ernest fiction  \n36            fiction        forsyth,frederick fiction  \n37            fiction           archer,jeffery fiction  \n38         nonfiction          pausch,randy nonfiction  \n39         philosophy              rand,ayn philosophy  \n40            fiction         crichton,michael fiction  \n41         nonfiction        steinbeck,john nonfiction  \n42            fiction           poe,edgarallen fiction  \n43          economics         dubner,stephen economics  \n44            science            capra,fritjof science  \n45         philosophy           durant,will philosophy  \n46            fiction             deshpande,pl fiction  \n47            fiction           steinbeck,john fiction  \n48         nonfiction        steinbeck,john nonfiction  \n49            fiction           steinbeck,john fiction  ",
            "text/html": "<div>\n<style scoped>\n    .dataframe tbody tr th:only-of-type {\n        vertical-align: middle;\n    }\n\n    .dataframe tbody tr th {\n        vertical-align: top;\n    }\n\n    .dataframe thead th {\n        text-align: right;\n    }\n</style>\n<table border=\"1\" class=\"dataframe\">\n  <thead>\n    <tr style=\"text-align: right;\">\n      <th></th>\n      <th>Title</th>\n      <th>Author</th>\n      <th>Genre</th>\n      <th>data</th>\n    </tr>\n  </thead>\n  <tbody>\n    <tr>\n      <th>1</th>\n      <td>data smart</td>\n      <td>foreman,john</td>\n      <td>data_science</td>\n      <td>foreman,john data_science</td>\n    </tr>\n    <tr>\n      <th>2</th>\n      <td>god created the integers</td>\n      <td>hawking,stephen</td>\n      <td>mathematics</td>\n      <td>hawking,stephen mathematics</td>\n    </tr>\n    <tr>\n      <th>3</th>\n      <td>superfreakonomics</td>\n      <td>dubner,stephen</td>\n      <td>economics</td>\n      <td>dubner,stephen economics</td>\n    </tr>\n    <tr>\n      <th>4</th>\n      <td>orientalism</td>\n      <td>said,edward</td>\n      <td>history</td>\n      <td>said,edward history</td>\n    </tr>\n    <tr>\n      <th>5</th>\n      <td>nature of statistical learning theory, the</td>\n      <td>vapnik,vladimir</td>\n      <td>data_science</td>\n      <td>vapnik,vladimir data_science</td>\n    </tr>\n    <tr>\n      <th>6</th>\n      <td>integration of the indian states</td>\n      <td>menon,vp</td>\n      <td>history</td>\n      <td>menon,vp history</td>\n    </tr>\n    <tr>\n      <th>7</th>\n      <td>drunkard's walk, the</td>\n      <td>mlodinow,leonard</td>\n      <td>science</td>\n      <td>mlodinow,leonard science</td>\n    </tr>\n    <tr>\n      <th>8</th>\n      <td>image processing &amp; mathematical morphology</td>\n      <td>shih,frank</td>\n      <td>signal_processing</td>\n      <td>shih,frank signal_processing</td>\n    </tr>\n    <tr>\n      <th>9</th>\n      <td>how to think like sherlock holmes</td>\n      <td>konnikova,maria</td>\n      <td>psychology</td>\n      <td>konnikova,maria psychology</td>\n    </tr>\n    <tr>\n      <th>10</th>\n      <td>data scientists at work</td>\n      <td>sebastiangutierrez</td>\n      <td>data_science</td>\n      <td>sebastiangutierrez data_science</td>\n    </tr>\n    <tr>\n      <th>11</th>\n      <td>slaughterhouse five</td>\n      <td>vonnegut,kurt</td>\n      <td>fiction</td>\n      <td>vonnegut,kurt fiction</td>\n    </tr>\n    <tr>\n      <th>12</th>\n      <td>birth of a theorem</td>\n      <td>villani,cedric</td>\n      <td>mathematics</td>\n      <td>villani,cedric mathematics</td>\n    </tr>\n    <tr>\n      <th>13</th>\n      <td>structure &amp; interpretation of computer programs</td>\n      <td>sussman,gerald</td>\n      <td>computer_science</td>\n      <td>sussman,gerald computer_science</td>\n    </tr>\n    <tr>\n      <th>14</th>\n      <td>age of wrath, the</td>\n      <td>eraly,abraham</td>\n      <td>history</td>\n      <td>eraly,abraham history</td>\n    </tr>\n    <tr>\n      <th>15</th>\n      <td>trial, the</td>\n      <td>kafka,frank</td>\n      <td>fiction</td>\n      <td>kafka,frank fiction</td>\n    </tr>\n    <tr>\n      <th>16</th>\n      <td>statistical decision theory'</td>\n      <td>pratt,john</td>\n      <td>data_science</td>\n      <td>pratt,john data_science</td>\n    </tr>\n    <tr>\n      <th>17</th>\n      <td>data mining handbook</td>\n      <td>nisbet,robert</td>\n      <td>data_science</td>\n      <td>nisbet,robert data_science</td>\n    </tr>\n    <tr>\n      <th>18</th>\n      <td>new machiavelli, the</td>\n      <td>wells,h.g.</td>\n      <td>fiction</td>\n      <td>wells,h.g. fiction</td>\n    </tr>\n    <tr>\n      <th>19</th>\n      <td>physics &amp; philosophy</td>\n      <td>heisenberg,werner</td>\n      <td>science</td>\n      <td>heisenberg,werner science</td>\n    </tr>\n    <tr>\n      <th>20</th>\n      <td>making software</td>\n      <td>oram,andy</td>\n      <td>computer_science</td>\n      <td>oram,andy computer_science</td>\n    </tr>\n    <tr>\n      <th>21</th>\n      <td>analysis, vol i</td>\n      <td>tao,terence</td>\n      <td>mathematics</td>\n      <td>tao,terence mathematics</td>\n    </tr>\n    <tr>\n      <th>22</th>\n      <td>machine learning for hackers</td>\n      <td>conway,drew</td>\n      <td>data_science</td>\n      <td>conway,drew data_science</td>\n    </tr>\n    <tr>\n      <th>23</th>\n      <td>signal and the noise, the</td>\n      <td>silver,nate</td>\n      <td>data_science</td>\n      <td>silver,nate data_science</td>\n    </tr>\n    <tr>\n      <th>24</th>\n      <td>python for data analysis</td>\n      <td>mckinney,wes</td>\n      <td>data_science</td>\n      <td>mckinney,wes data_science</td>\n    </tr>\n    <tr>\n      <th>25</th>\n      <td>introduction to algorithms</td>\n      <td>cormen,thomas</td>\n      <td>computer_science</td>\n      <td>cormen,thomas computer_science</td>\n    </tr>\n    <tr>\n      <th>26</th>\n      <td>beautiful and the damned, the</td>\n      <td>deb,siddhartha</td>\n      <td>nonfiction</td>\n      <td>deb,siddhartha nonfiction</td>\n    </tr>\n    <tr>\n      <th>27</th>\n      <td>outsider, the</td>\n      <td>camus,albert</td>\n      <td>fiction</td>\n      <td>camus,albert fiction</td>\n    </tr>\n    <tr>\n      <th>28</th>\n      <td>complete sherlock holmes, the - vol i</td>\n      <td>doyle,arthurconan</td>\n      <td>fiction</td>\n      <td>doyle,arthurconan fiction</td>\n    </tr>\n    <tr>\n      <th>29</th>\n      <td>complete sherlock holmes, the - vol ii</td>\n      <td>doyle,arthurconan</td>\n      <td>fiction</td>\n      <td>doyle,arthurconan fiction</td>\n    </tr>\n    <tr>\n      <th>30</th>\n      <td>wealth of nations, the</td>\n      <td>smith,adam</td>\n      <td>economics</td>\n      <td>smith,adam economics</td>\n    </tr>\n    <tr>\n      <th>31</th>\n      <td>pillars of the earth, the</td>\n      <td>follett,ken</td>\n      <td>fiction</td>\n      <td>follett,ken fiction</td>\n    </tr>\n    <tr>\n      <th>32</th>\n      <td>mein kampf</td>\n      <td>hitler,adolf</td>\n      <td>nonfiction</td>\n      <td>hitler,adolf nonfiction</td>\n    </tr>\n    <tr>\n      <th>33</th>\n      <td>tao of physics, the</td>\n      <td>capra,fritjof</td>\n      <td>science</td>\n      <td>capra,fritjof science</td>\n    </tr>\n    <tr>\n      <th>34</th>\n      <td>surely you're joking mr feynman</td>\n      <td>feynman,richard</td>\n      <td>science</td>\n      <td>feynman,richard science</td>\n    </tr>\n    <tr>\n      <th>35</th>\n      <td>farewell to arms, a</td>\n      <td>hemingway,ernest</td>\n      <td>fiction</td>\n      <td>hemingway,ernest fiction</td>\n    </tr>\n    <tr>\n      <th>36</th>\n      <td>veteran, the</td>\n      <td>forsyth,frederick</td>\n      <td>fiction</td>\n      <td>forsyth,frederick fiction</td>\n    </tr>\n    <tr>\n      <th>37</th>\n      <td>false impressions</td>\n      <td>archer,jeffery</td>\n      <td>fiction</td>\n      <td>archer,jeffery fiction</td>\n    </tr>\n    <tr>\n      <th>38</th>\n      <td>last lecture, the</td>\n      <td>pausch,randy</td>\n      <td>nonfiction</td>\n      <td>pausch,randy nonfiction</td>\n    </tr>\n    <tr>\n      <th>39</th>\n      <td>return of the primitive</td>\n      <td>rand,ayn</td>\n      <td>philosophy</td>\n      <td>rand,ayn philosophy</td>\n    </tr>\n    <tr>\n      <th>40</th>\n      <td>jurassic park</td>\n      <td>crichton,michael</td>\n      <td>fiction</td>\n      <td>crichton,michael fiction</td>\n    </tr>\n    <tr>\n      <th>41</th>\n      <td>russian journal, a</td>\n      <td>steinbeck,john</td>\n      <td>nonfiction</td>\n      <td>steinbeck,john nonfiction</td>\n    </tr>\n    <tr>\n      <th>42</th>\n      <td>tales of mystery and imagination</td>\n      <td>poe,edgarallen</td>\n      <td>fiction</td>\n      <td>poe,edgarallen fiction</td>\n    </tr>\n    <tr>\n      <th>43</th>\n      <td>freakonomics</td>\n      <td>dubner,stephen</td>\n      <td>economics</td>\n      <td>dubner,stephen economics</td>\n    </tr>\n    <tr>\n      <th>44</th>\n      <td>hidden connections, the</td>\n      <td>capra,fritjof</td>\n      <td>science</td>\n      <td>capra,fritjof science</td>\n    </tr>\n    <tr>\n      <th>45</th>\n      <td>story of philosophy, the</td>\n      <td>durant,will</td>\n      <td>philosophy</td>\n      <td>durant,will philosophy</td>\n    </tr>\n    <tr>\n      <th>46</th>\n      <td>asami asami</td>\n      <td>deshpande,pl</td>\n      <td>fiction</td>\n      <td>deshpande,pl fiction</td>\n    </tr>\n    <tr>\n      <th>47</th>\n      <td>journal of a novel</td>\n      <td>steinbeck,john</td>\n      <td>fiction</td>\n      <td>steinbeck,john fiction</td>\n    </tr>\n    <tr>\n      <th>48</th>\n      <td>once there was a war</td>\n      <td>steinbeck,john</td>\n      <td>nonfiction</td>\n      <td>steinbeck,john nonfiction</td>\n    </tr>\n    <tr>\n      <th>49</th>\n      <td>moon is down, the</td>\n      <td>steinbeck,john</td>\n      <td>fiction</td>\n      <td>steinbeck,john fiction</td>\n    </tr>\n  </tbody>\n</table>\n</div>"
          },
          "metadata": {}
        }
      ]
    },
    {
      "cell_type": "code",
      "source": "input_book = 'veteran, the'\nrecommendations = pd.DataFrame(df.nlargest(11,input_book)['Title'])\nrecommendations = recommendations[recommendations['Title']!=input_book]\nprint(recommendations)",
      "metadata": {
        "trusted": true
      },
      "execution_count": 45,
      "outputs": [
        {
          "name": "stdout",
          "text": "                         Title\n103  phantom of manhattan, the\n119              deceiver, the\n18        new machiavelli, the\n51             in a free state\n114           to sir with love\n150            batatyachi chal\n151                 hafasavnuk\n152                  urlasurla\n11         slaughterhouse five\n15                  trial, the\n",
          "output_type": "stream"
        }
      ]
    },
    {
      "cell_type": "code",
      "source": "input_book = 'jurassic park'\nrecommendations = pd.DataFrame(df.nlargest(11,input_book)['Title'])\nrecommendations = recommendations[recommendations['Title']!=input_book]\nprint(recommendations)",
      "metadata": {
        "trusted": true
      },
      "execution_count": 47,
      "outputs": [
        {
          "name": "stdout",
          "text": "                                     Title\n18                    new machiavelli, the\n51                         in a free state\n114                       to sir with love\n150                        batatyachi chal\n151                             hafasavnuk\n152                              urlasurla\n11                     slaughterhouse five\n15                              trial, the\n27                           outsider, the\n28   complete sherlock holmes, the - vol i\n",
          "output_type": "stream"
        }
      ]
    },
    {
      "cell_type": "code",
      "source": "",
      "metadata": {},
      "execution_count": null,
      "outputs": []
    }
  ]
}