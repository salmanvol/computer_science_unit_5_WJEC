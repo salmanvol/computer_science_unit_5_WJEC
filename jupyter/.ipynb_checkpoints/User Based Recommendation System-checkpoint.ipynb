{
  "metadata": {
    "language_info": {
      "codemirror_mode": {
        "name": "python",
        "version": 3
      },
      "file_extension": ".py",
      "mimetype": "text/x-python",
      "name": "python",
      "nbconvert_exporter": "python",
      "pygments_lexer": "ipython3",
      "version": "3.8"
    },
    "kernelspec": {
      "name": "python",
      "display_name": "Python (Pyodide)",
      "language": "python"
    }
  },
  "nbformat_minor": 4,
  "nbformat": 4,
  "cells": [
    {
      "cell_type": "code",
      "source": "import pandas as pd",
      "metadata": {
        "trusted": true
      },
      "execution_count": null,
      "outputs": []
    },
    {
      "cell_type": "code",
      "source": "books = pd.read_csv(\"books.csv\")",
      "metadata": {
        "trusted": true
      },
      "execution_count": 221,
      "outputs": []
    },
    {
      "cell_type": "code",
      "source": "borrows = pd.read_csv(\"borrows.csv\")",
      "metadata": {
        "trusted": true
      },
      "execution_count": 242,
      "outputs": []
    },
    {
      "cell_type": "code",
      "source": "books['BookID'] = books.index",
      "metadata": {
        "trusted": true
      },
      "execution_count": 243,
      "outputs": []
    },
    {
      "cell_type": "code",
      "source": "books.head()",
      "metadata": {
        "trusted": true
      },
      "execution_count": 244,
      "outputs": [
        {
          "execution_count": 244,
          "output_type": "execute_result",
          "data": {
            "text/plain": "                      Title            Author              Genre  Height  \\\n0  Fundamentals of Wavelets  Goswami, Jaideva  signal_processing     228   \n1                Data Smart     Foreman, John       data_science     235   \n2  God Created the Integers  Hawking, Stephen        mathematics     197   \n3         Superfreakonomics   Dubner, Stephen          economics     179   \n4               Orientalism      Said, Edward            history     197   \n\n       Publisher  BookID  \n0          Wiley       0  \n1          Wiley       1  \n2        Penguin       2  \n3  HarperCollins       3  \n4        Penguin       4  ",
            "text/html": "<div>\n<style scoped>\n    .dataframe tbody tr th:only-of-type {\n        vertical-align: middle;\n    }\n\n    .dataframe tbody tr th {\n        vertical-align: top;\n    }\n\n    .dataframe thead th {\n        text-align: right;\n    }\n</style>\n<table border=\"1\" class=\"dataframe\">\n  <thead>\n    <tr style=\"text-align: right;\">\n      <th></th>\n      <th>Title</th>\n      <th>Author</th>\n      <th>Genre</th>\n      <th>Height</th>\n      <th>Publisher</th>\n      <th>BookID</th>\n    </tr>\n  </thead>\n  <tbody>\n    <tr>\n      <th>0</th>\n      <td>Fundamentals of Wavelets</td>\n      <td>Goswami, Jaideva</td>\n      <td>signal_processing</td>\n      <td>228</td>\n      <td>Wiley</td>\n      <td>0</td>\n    </tr>\n    <tr>\n      <th>1</th>\n      <td>Data Smart</td>\n      <td>Foreman, John</td>\n      <td>data_science</td>\n      <td>235</td>\n      <td>Wiley</td>\n      <td>1</td>\n    </tr>\n    <tr>\n      <th>2</th>\n      <td>God Created the Integers</td>\n      <td>Hawking, Stephen</td>\n      <td>mathematics</td>\n      <td>197</td>\n      <td>Penguin</td>\n      <td>2</td>\n    </tr>\n    <tr>\n      <th>3</th>\n      <td>Superfreakonomics</td>\n      <td>Dubner, Stephen</td>\n      <td>economics</td>\n      <td>179</td>\n      <td>HarperCollins</td>\n      <td>3</td>\n    </tr>\n    <tr>\n      <th>4</th>\n      <td>Orientalism</td>\n      <td>Said, Edward</td>\n      <td>history</td>\n      <td>197</td>\n      <td>Penguin</td>\n      <td>4</td>\n    </tr>\n  </tbody>\n</table>\n</div>"
          },
          "metadata": {}
        }
      ]
    },
    {
      "cell_type": "code",
      "source": "borrows.head()",
      "metadata": {
        "trusted": true
      },
      "execution_count": 245,
      "outputs": [
        {
          "execution_count": 245,
          "output_type": "execute_result",
          "data": {
            "text/plain": "   StudentID  BookID\n0          1     208\n1          1      98\n2          1      18\n3          1     114\n4          1       8",
            "text/html": "<div>\n<style scoped>\n    .dataframe tbody tr th:only-of-type {\n        vertical-align: middle;\n    }\n\n    .dataframe tbody tr th {\n        vertical-align: top;\n    }\n\n    .dataframe thead th {\n        text-align: right;\n    }\n</style>\n<table border=\"1\" class=\"dataframe\">\n  <thead>\n    <tr style=\"text-align: right;\">\n      <th></th>\n      <th>StudentID</th>\n      <th>BookID</th>\n    </tr>\n  </thead>\n  <tbody>\n    <tr>\n      <th>0</th>\n      <td>1</td>\n      <td>208</td>\n    </tr>\n    <tr>\n      <th>1</th>\n      <td>1</td>\n      <td>98</td>\n    </tr>\n    <tr>\n      <th>2</th>\n      <td>1</td>\n      <td>18</td>\n    </tr>\n    <tr>\n      <th>3</th>\n      <td>1</td>\n      <td>114</td>\n    </tr>\n    <tr>\n      <th>4</th>\n      <td>1</td>\n      <td>8</td>\n    </tr>\n  </tbody>\n</table>\n</div>"
          },
          "metadata": {}
        }
      ]
    },
    {
      "cell_type": "code",
      "source": "",
      "metadata": {
        "trusted": true
      },
      "execution_count": null,
      "outputs": []
    },
    {
      "cell_type": "code",
      "source": "df = borrows.merge(books, on=\"BookID\")",
      "metadata": {
        "trusted": true
      },
      "execution_count": 247,
      "outputs": []
    },
    {
      "cell_type": "code",
      "source": "df['borrowed'] = 1",
      "metadata": {
        "trusted": true
      },
      "execution_count": 248,
      "outputs": []
    },
    {
      "cell_type": "code",
      "source": "df",
      "metadata": {
        "trusted": true
      },
      "execution_count": 249,
      "outputs": [
        {
          "execution_count": 249,
          "output_type": "execute_result",
          "data": {
            "text/plain": "    StudentID  BookID                       Title             Author  \\\n0           1     208                 Animal Farm     Orwell, George   \n1           2     208                 Animal Farm     Orwell, George   \n2           9     208                 Animal Farm     Orwell, George   \n3           1      98   Age of Discontuinity, The     Drucker, Peter   \n4           2      98   Age of Discontuinity, The     Drucker, Peter   \n..        ...     ...                         ...                ...   \n76         10      15                  Trial, The       Kafka, Frank   \n77         10      11         Slaughterhouse Five     Vonnegut, Kurt   \n78         10      38           Last Lecture, The      Pausch, Randy   \n79         10      40               Jurassic Park  Crichton, Michael   \n80         10     150  Batman: The Long Halloween                NaN   \n\n         Genre  Height     Publisher  borrowed  \n0      fiction     180           NaN         1  \n1      fiction     180           NaN         1  \n2      fiction     180           NaN         1  \n3    economics     178  Random House         1  \n4    economics     178  Random House         1  \n..         ...     ...           ...       ...  \n76     fiction     198  Random House         1  \n77     fiction     198  Random House         1  \n78  nonfiction     197      Hyperion         1  \n79     fiction     174  Random House         1  \n80       comic     258           NaN         1  \n\n[81 rows x 8 columns]",
            "text/html": "<div>\n<style scoped>\n    .dataframe tbody tr th:only-of-type {\n        vertical-align: middle;\n    }\n\n    .dataframe tbody tr th {\n        vertical-align: top;\n    }\n\n    .dataframe thead th {\n        text-align: right;\n    }\n</style>\n<table border=\"1\" class=\"dataframe\">\n  <thead>\n    <tr style=\"text-align: right;\">\n      <th></th>\n      <th>StudentID</th>\n      <th>BookID</th>\n      <th>Title</th>\n      <th>Author</th>\n      <th>Genre</th>\n      <th>Height</th>\n      <th>Publisher</th>\n      <th>borrowed</th>\n    </tr>\n  </thead>\n  <tbody>\n    <tr>\n      <th>0</th>\n      <td>1</td>\n      <td>208</td>\n      <td>Animal Farm</td>\n      <td>Orwell, George</td>\n      <td>fiction</td>\n      <td>180</td>\n      <td>NaN</td>\n      <td>1</td>\n    </tr>\n    <tr>\n      <th>1</th>\n      <td>2</td>\n      <td>208</td>\n      <td>Animal Farm</td>\n      <td>Orwell, George</td>\n      <td>fiction</td>\n      <td>180</td>\n      <td>NaN</td>\n      <td>1</td>\n    </tr>\n    <tr>\n      <th>2</th>\n      <td>9</td>\n      <td>208</td>\n      <td>Animal Farm</td>\n      <td>Orwell, George</td>\n      <td>fiction</td>\n      <td>180</td>\n      <td>NaN</td>\n      <td>1</td>\n    </tr>\n    <tr>\n      <th>3</th>\n      <td>1</td>\n      <td>98</td>\n      <td>Age of Discontuinity, The</td>\n      <td>Drucker, Peter</td>\n      <td>economics</td>\n      <td>178</td>\n      <td>Random House</td>\n      <td>1</td>\n    </tr>\n    <tr>\n      <th>4</th>\n      <td>2</td>\n      <td>98</td>\n      <td>Age of Discontuinity, The</td>\n      <td>Drucker, Peter</td>\n      <td>economics</td>\n      <td>178</td>\n      <td>Random House</td>\n      <td>1</td>\n    </tr>\n    <tr>\n      <th>...</th>\n      <td>...</td>\n      <td>...</td>\n      <td>...</td>\n      <td>...</td>\n      <td>...</td>\n      <td>...</td>\n      <td>...</td>\n      <td>...</td>\n    </tr>\n    <tr>\n      <th>76</th>\n      <td>10</td>\n      <td>15</td>\n      <td>Trial, The</td>\n      <td>Kafka, Frank</td>\n      <td>fiction</td>\n      <td>198</td>\n      <td>Random House</td>\n      <td>1</td>\n    </tr>\n    <tr>\n      <th>77</th>\n      <td>10</td>\n      <td>11</td>\n      <td>Slaughterhouse Five</td>\n      <td>Vonnegut, Kurt</td>\n      <td>fiction</td>\n      <td>198</td>\n      <td>Random House</td>\n      <td>1</td>\n    </tr>\n    <tr>\n      <th>78</th>\n      <td>10</td>\n      <td>38</td>\n      <td>Last Lecture, The</td>\n      <td>Pausch, Randy</td>\n      <td>nonfiction</td>\n      <td>197</td>\n      <td>Hyperion</td>\n      <td>1</td>\n    </tr>\n    <tr>\n      <th>79</th>\n      <td>10</td>\n      <td>40</td>\n      <td>Jurassic Park</td>\n      <td>Crichton, Michael</td>\n      <td>fiction</td>\n      <td>174</td>\n      <td>Random House</td>\n      <td>1</td>\n    </tr>\n    <tr>\n      <th>80</th>\n      <td>10</td>\n      <td>150</td>\n      <td>Batman: The Long Halloween</td>\n      <td>NaN</td>\n      <td>comic</td>\n      <td>258</td>\n      <td>NaN</td>\n      <td>1</td>\n    </tr>\n  </tbody>\n</table>\n<p>81 rows × 8 columns</p>\n</div>"
          },
          "metadata": {}
        }
      ]
    },
    {
      "cell_type": "code",
      "source": "matrix = df.pivot_table(index='StudentID', columns='Title', values='borrowed')",
      "metadata": {
        "trusted": true
      },
      "execution_count": 258,
      "outputs": []
    },
    {
      "cell_type": "code",
      "source": "matrix",
      "metadata": {
        "trusted": true
      },
      "execution_count": 259,
      "outputs": [
        {
          "execution_count": 259,
          "output_type": "execute_result",
          "data": {
            "text/plain": "Title      Age of Discontuinity, The  Age of Wrath, The  \\\nStudentID                                                 \n1                                1.0                NaN   \n2                                1.0                1.0   \n3                                NaN                NaN   \n4                                NaN                1.0   \n5                                NaN                NaN   \n6                                NaN                NaN   \n7                                NaN                NaN   \n8                                NaN                NaN   \n9                                1.0                NaN   \n10                               NaN                NaN   \n\nTitle      All the President's Men  Animal Farm  Argumentative Indian, The  \\\nStudentID                                                                    \n1                              NaN          1.0                        NaN   \n2                              1.0          1.0                        NaN   \n3                              NaN          NaN                        NaN   \n4                              NaN          NaN                        NaN   \n5                              NaN          NaN                        NaN   \n6                              NaN          NaN                        1.0   \n7                              NaN          NaN                        NaN   \n8                              NaN          NaN                        NaN   \n9                              NaN          1.0                        NaN   \n10                             1.0          NaN                        NaN   \n\nTitle      Batman: The Long Halloween  Beyond the Three Seas  \\\nStudentID                                                      \n1                                 NaN                    1.0   \n2                                 NaN                    NaN   \n3                                 NaN                    NaN   \n4                                 NaN                    NaN   \n5                                 NaN                    NaN   \n6                                 NaN                    NaN   \n7                                 NaN                    NaN   \n8                                 NaN                    NaN   \n9                                 NaN                    NaN   \n10                                1.0                    NaN   \n\nTitle      Bookless in Baghdad  Case of the Lame Canary, The  Data Smart  ...  \\\nStudentID                                                                 ...   \n1                          NaN                           NaN         1.0  ...   \n2                          NaN                           NaN         NaN  ...   \n3                          NaN                           NaN         NaN  ...   \n4                          NaN                           NaN         NaN  ...   \n5                          1.0                           NaN         NaN  ...   \n6                          NaN                           1.0         NaN  ...   \n7                          NaN                           1.0         1.0  ...   \n8                          NaN                           NaN         NaN  ...   \n9                          NaN                           1.0         NaN  ...   \n10                         NaN                           NaN         NaN  ...   \n\nTitle      Scoop!  Slaughterhouse Five  \\\nStudentID                                \n1             NaN                  NaN   \n2             1.0                  NaN   \n3             1.0                  NaN   \n4             NaN                  NaN   \n5             NaN                  NaN   \n6             NaN                  NaN   \n7             NaN                  NaN   \n8             NaN                  NaN   \n9             1.0                  NaN   \n10            1.0                  1.0   \n\nTitle      Structure & Interpretation of Computer Programs  Superfreakonomics  \\\nStudentID                                                                       \n1                                                      NaN                1.0   \n2                                                      NaN                NaN   \n3                                                      NaN                NaN   \n4                                                      NaN                1.0   \n5                                                      NaN                NaN   \n6                                                      NaN                NaN   \n7                                                      NaN                NaN   \n8                                                      NaN                NaN   \n9                                                      1.0                NaN   \n10                                                     NaN                NaN   \n\nTitle      To Sir With Love  Trial, The  Urlasurla  Veteran, The  \\\nStudentID                                                          \n1                       NaN         NaN        NaN           NaN   \n2                       NaN         NaN        NaN           NaN   \n3                       NaN         NaN        NaN           NaN   \n4                       NaN         NaN        1.0           NaN   \n5                       NaN         NaN        NaN           NaN   \n6                       NaN         NaN        NaN           NaN   \n7                       NaN         NaN        NaN           NaN   \n8                       1.0         NaN        NaN           1.0   \n9                       NaN         NaN        NaN           1.0   \n10                      NaN         1.0        1.0           1.0   \n\nTitle      World's Greatest Short Stories, The  World's Greatest Trials, The  \nStudentID                                                                     \n1                                          NaN                           NaN  \n2                                          NaN                           NaN  \n3                                          NaN                           1.0  \n4                                          NaN                           NaN  \n5                                          NaN                           NaN  \n6                                          NaN                           NaN  \n7                                          NaN                           NaN  \n8                                          1.0                           NaN  \n9                                          NaN                           NaN  \n10                                         NaN                           NaN  \n\n[10 rows x 39 columns]",
            "text/html": "<div>\n<style scoped>\n    .dataframe tbody tr th:only-of-type {\n        vertical-align: middle;\n    }\n\n    .dataframe tbody tr th {\n        vertical-align: top;\n    }\n\n    .dataframe thead th {\n        text-align: right;\n    }\n</style>\n<table border=\"1\" class=\"dataframe\">\n  <thead>\n    <tr style=\"text-align: right;\">\n      <th>Title</th>\n      <th>Age of Discontuinity, The</th>\n      <th>Age of Wrath, The</th>\n      <th>All the President's Men</th>\n      <th>Animal Farm</th>\n      <th>Argumentative Indian, The</th>\n      <th>Batman: The Long Halloween</th>\n      <th>Beyond the Three Seas</th>\n      <th>Bookless in Baghdad</th>\n      <th>Case of the Lame Canary, The</th>\n      <th>Data Smart</th>\n      <th>...</th>\n      <th>Scoop!</th>\n      <th>Slaughterhouse Five</th>\n      <th>Structure &amp; Interpretation of Computer Programs</th>\n      <th>Superfreakonomics</th>\n      <th>To Sir With Love</th>\n      <th>Trial, The</th>\n      <th>Urlasurla</th>\n      <th>Veteran, The</th>\n      <th>World's Greatest Short Stories, The</th>\n      <th>World's Greatest Trials, The</th>\n    </tr>\n    <tr>\n      <th>StudentID</th>\n      <th></th>\n      <th></th>\n      <th></th>\n      <th></th>\n      <th></th>\n      <th></th>\n      <th></th>\n      <th></th>\n      <th></th>\n      <th></th>\n      <th></th>\n      <th></th>\n      <th></th>\n      <th></th>\n      <th></th>\n      <th></th>\n      <th></th>\n      <th></th>\n      <th></th>\n      <th></th>\n      <th></th>\n    </tr>\n  </thead>\n  <tbody>\n    <tr>\n      <th>1</th>\n      <td>1.0</td>\n      <td>NaN</td>\n      <td>NaN</td>\n      <td>1.0</td>\n      <td>NaN</td>\n      <td>NaN</td>\n      <td>1.0</td>\n      <td>NaN</td>\n      <td>NaN</td>\n      <td>1.0</td>\n      <td>...</td>\n      <td>NaN</td>\n      <td>NaN</td>\n      <td>NaN</td>\n      <td>1.0</td>\n      <td>NaN</td>\n      <td>NaN</td>\n      <td>NaN</td>\n      <td>NaN</td>\n      <td>NaN</td>\n      <td>NaN</td>\n    </tr>\n    <tr>\n      <th>2</th>\n      <td>1.0</td>\n      <td>1.0</td>\n      <td>1.0</td>\n      <td>1.0</td>\n      <td>NaN</td>\n      <td>NaN</td>\n      <td>NaN</td>\n      <td>NaN</td>\n      <td>NaN</td>\n      <td>NaN</td>\n      <td>...</td>\n      <td>1.0</td>\n      <td>NaN</td>\n      <td>NaN</td>\n      <td>NaN</td>\n      <td>NaN</td>\n      <td>NaN</td>\n      <td>NaN</td>\n      <td>NaN</td>\n      <td>NaN</td>\n      <td>NaN</td>\n    </tr>\n    <tr>\n      <th>3</th>\n      <td>NaN</td>\n      <td>NaN</td>\n      <td>NaN</td>\n      <td>NaN</td>\n      <td>NaN</td>\n      <td>NaN</td>\n      <td>NaN</td>\n      <td>NaN</td>\n      <td>NaN</td>\n      <td>NaN</td>\n      <td>...</td>\n      <td>1.0</td>\n      <td>NaN</td>\n      <td>NaN</td>\n      <td>NaN</td>\n      <td>NaN</td>\n      <td>NaN</td>\n      <td>NaN</td>\n      <td>NaN</td>\n      <td>NaN</td>\n      <td>1.0</td>\n    </tr>\n    <tr>\n      <th>4</th>\n      <td>NaN</td>\n      <td>1.0</td>\n      <td>NaN</td>\n      <td>NaN</td>\n      <td>NaN</td>\n      <td>NaN</td>\n      <td>NaN</td>\n      <td>NaN</td>\n      <td>NaN</td>\n      <td>NaN</td>\n      <td>...</td>\n      <td>NaN</td>\n      <td>NaN</td>\n      <td>NaN</td>\n      <td>1.0</td>\n      <td>NaN</td>\n      <td>NaN</td>\n      <td>1.0</td>\n      <td>NaN</td>\n      <td>NaN</td>\n      <td>NaN</td>\n    </tr>\n    <tr>\n      <th>5</th>\n      <td>NaN</td>\n      <td>NaN</td>\n      <td>NaN</td>\n      <td>NaN</td>\n      <td>NaN</td>\n      <td>NaN</td>\n      <td>NaN</td>\n      <td>1.0</td>\n      <td>NaN</td>\n      <td>NaN</td>\n      <td>...</td>\n      <td>NaN</td>\n      <td>NaN</td>\n      <td>NaN</td>\n      <td>NaN</td>\n      <td>NaN</td>\n      <td>NaN</td>\n      <td>NaN</td>\n      <td>NaN</td>\n      <td>NaN</td>\n      <td>NaN</td>\n    </tr>\n    <tr>\n      <th>6</th>\n      <td>NaN</td>\n      <td>NaN</td>\n      <td>NaN</td>\n      <td>NaN</td>\n      <td>1.0</td>\n      <td>NaN</td>\n      <td>NaN</td>\n      <td>NaN</td>\n      <td>1.0</td>\n      <td>NaN</td>\n      <td>...</td>\n      <td>NaN</td>\n      <td>NaN</td>\n      <td>NaN</td>\n      <td>NaN</td>\n      <td>NaN</td>\n      <td>NaN</td>\n      <td>NaN</td>\n      <td>NaN</td>\n      <td>NaN</td>\n      <td>NaN</td>\n    </tr>\n    <tr>\n      <th>7</th>\n      <td>NaN</td>\n      <td>NaN</td>\n      <td>NaN</td>\n      <td>NaN</td>\n      <td>NaN</td>\n      <td>NaN</td>\n      <td>NaN</td>\n      <td>NaN</td>\n      <td>1.0</td>\n      <td>1.0</td>\n      <td>...</td>\n      <td>NaN</td>\n      <td>NaN</td>\n      <td>NaN</td>\n      <td>NaN</td>\n      <td>NaN</td>\n      <td>NaN</td>\n      <td>NaN</td>\n      <td>NaN</td>\n      <td>NaN</td>\n      <td>NaN</td>\n    </tr>\n    <tr>\n      <th>8</th>\n      <td>NaN</td>\n      <td>NaN</td>\n      <td>NaN</td>\n      <td>NaN</td>\n      <td>NaN</td>\n      <td>NaN</td>\n      <td>NaN</td>\n      <td>NaN</td>\n      <td>NaN</td>\n      <td>NaN</td>\n      <td>...</td>\n      <td>NaN</td>\n      <td>NaN</td>\n      <td>NaN</td>\n      <td>NaN</td>\n      <td>1.0</td>\n      <td>NaN</td>\n      <td>NaN</td>\n      <td>1.0</td>\n      <td>1.0</td>\n      <td>NaN</td>\n    </tr>\n    <tr>\n      <th>9</th>\n      <td>1.0</td>\n      <td>NaN</td>\n      <td>NaN</td>\n      <td>1.0</td>\n      <td>NaN</td>\n      <td>NaN</td>\n      <td>NaN</td>\n      <td>NaN</td>\n      <td>1.0</td>\n      <td>NaN</td>\n      <td>...</td>\n      <td>1.0</td>\n      <td>NaN</td>\n      <td>1.0</td>\n      <td>NaN</td>\n      <td>NaN</td>\n      <td>NaN</td>\n      <td>NaN</td>\n      <td>1.0</td>\n      <td>NaN</td>\n      <td>NaN</td>\n    </tr>\n    <tr>\n      <th>10</th>\n      <td>NaN</td>\n      <td>NaN</td>\n      <td>1.0</td>\n      <td>NaN</td>\n      <td>NaN</td>\n      <td>1.0</td>\n      <td>NaN</td>\n      <td>NaN</td>\n      <td>NaN</td>\n      <td>NaN</td>\n      <td>...</td>\n      <td>1.0</td>\n      <td>1.0</td>\n      <td>NaN</td>\n      <td>NaN</td>\n      <td>NaN</td>\n      <td>1.0</td>\n      <td>1.0</td>\n      <td>1.0</td>\n      <td>NaN</td>\n      <td>NaN</td>\n    </tr>\n  </tbody>\n</table>\n<p>10 rows × 39 columns</p>\n</div>"
          },
          "metadata": {}
        }
      ]
    },
    {
      "cell_type": "code",
      "source": "user_similarity = cosine_similarity(matrix.fillna(0))\nuser_similarity",
      "metadata": {
        "trusted": true
      },
      "execution_count": 358,
      "outputs": [
        {
          "execution_count": 358,
          "output_type": "execute_result",
          "data": {
            "text/plain": "array([[1.        , 0.35355339, 0.        , 0.11111111, 0.        ,\n        0.        , 0.2981424 , 0.27216553, 0.28867513, 0.0860663 ],\n       [0.35355339, 1.        , 0.40089186, 0.23570226, 0.        ,\n        0.        , 0.        , 0.14433757, 0.40824829, 0.36514837],\n       [0.        , 0.40089186, 1.        , 0.37796447, 0.        ,\n        0.        , 0.16903085, 0.        , 0.43643578, 0.29277002],\n       [0.11111111, 0.23570226, 0.37796447, 1.        , 0.33333333,\n        0.        , 0.2981424 , 0.        , 0.19245009, 0.43033148],\n       [0.        , 0.        , 0.        , 0.33333333, 1.        ,\n        0.        , 0.2236068 , 0.        , 0.        , 0.25819889],\n       [0.        , 0.        , 0.        , 0.        , 0.        ,\n        1.        , 0.25819889, 0.        , 0.16666667, 0.        ],\n       [0.2981424 , 0.        , 0.16903085, 0.2981424 , 0.2236068 ,\n        0.25819889, 1.        , 0.        , 0.38729833, 0.11547005],\n       [0.27216553, 0.14433757, 0.        , 0.        , 0.        ,\n        0.        , 0.        , 1.        , 0.11785113, 0.31622777],\n       [0.28867513, 0.40824829, 0.43643578, 0.19245009, 0.        ,\n        0.16666667, 0.38729833, 0.11785113, 1.        , 0.2236068 ],\n       [0.0860663 , 0.36514837, 0.29277002, 0.43033148, 0.25819889,\n        0.        , 0.11547005, 0.31622777, 0.2236068 , 1.        ]])"
          },
          "metadata": {}
        }
      ]
    },
    {
      "cell_type": "code",
      "source": "user_similarity = pd.DataFrame(user_similarity, columns = [x for x in range(10)])",
      "metadata": {
        "trusted": true
      },
      "execution_count": 359,
      "outputs": []
    },
    {
      "cell_type": "code",
      "source": "user_similarity",
      "metadata": {
        "trusted": true
      },
      "execution_count": 360,
      "outputs": [
        {
          "execution_count": 360,
          "output_type": "execute_result",
          "data": {
            "text/plain": "          0         1         2         3         4         5         6  \\\n0  1.000000  0.353553  0.000000  0.111111  0.000000  0.000000  0.298142   \n1  0.353553  1.000000  0.400892  0.235702  0.000000  0.000000  0.000000   \n2  0.000000  0.400892  1.000000  0.377964  0.000000  0.000000  0.169031   \n3  0.111111  0.235702  0.377964  1.000000  0.333333  0.000000  0.298142   \n4  0.000000  0.000000  0.000000  0.333333  1.000000  0.000000  0.223607   \n5  0.000000  0.000000  0.000000  0.000000  0.000000  1.000000  0.258199   \n6  0.298142  0.000000  0.169031  0.298142  0.223607  0.258199  1.000000   \n7  0.272166  0.144338  0.000000  0.000000  0.000000  0.000000  0.000000   \n8  0.288675  0.408248  0.436436  0.192450  0.000000  0.166667  0.387298   \n9  0.086066  0.365148  0.292770  0.430331  0.258199  0.000000  0.115470   \n\n          7         8         9  \n0  0.272166  0.288675  0.086066  \n1  0.144338  0.408248  0.365148  \n2  0.000000  0.436436  0.292770  \n3  0.000000  0.192450  0.430331  \n4  0.000000  0.000000  0.258199  \n5  0.000000  0.166667  0.000000  \n6  0.000000  0.387298  0.115470  \n7  1.000000  0.117851  0.316228  \n8  0.117851  1.000000  0.223607  \n9  0.316228  0.223607  1.000000  ",
            "text/html": "<div>\n<style scoped>\n    .dataframe tbody tr th:only-of-type {\n        vertical-align: middle;\n    }\n\n    .dataframe tbody tr th {\n        vertical-align: top;\n    }\n\n    .dataframe thead th {\n        text-align: right;\n    }\n</style>\n<table border=\"1\" class=\"dataframe\">\n  <thead>\n    <tr style=\"text-align: right;\">\n      <th></th>\n      <th>0</th>\n      <th>1</th>\n      <th>2</th>\n      <th>3</th>\n      <th>4</th>\n      <th>5</th>\n      <th>6</th>\n      <th>7</th>\n      <th>8</th>\n      <th>9</th>\n    </tr>\n  </thead>\n  <tbody>\n    <tr>\n      <th>0</th>\n      <td>1.000000</td>\n      <td>0.353553</td>\n      <td>0.000000</td>\n      <td>0.111111</td>\n      <td>0.000000</td>\n      <td>0.000000</td>\n      <td>0.298142</td>\n      <td>0.272166</td>\n      <td>0.288675</td>\n      <td>0.086066</td>\n    </tr>\n    <tr>\n      <th>1</th>\n      <td>0.353553</td>\n      <td>1.000000</td>\n      <td>0.400892</td>\n      <td>0.235702</td>\n      <td>0.000000</td>\n      <td>0.000000</td>\n      <td>0.000000</td>\n      <td>0.144338</td>\n      <td>0.408248</td>\n      <td>0.365148</td>\n    </tr>\n    <tr>\n      <th>2</th>\n      <td>0.000000</td>\n      <td>0.400892</td>\n      <td>1.000000</td>\n      <td>0.377964</td>\n      <td>0.000000</td>\n      <td>0.000000</td>\n      <td>0.169031</td>\n      <td>0.000000</td>\n      <td>0.436436</td>\n      <td>0.292770</td>\n    </tr>\n    <tr>\n      <th>3</th>\n      <td>0.111111</td>\n      <td>0.235702</td>\n      <td>0.377964</td>\n      <td>1.000000</td>\n      <td>0.333333</td>\n      <td>0.000000</td>\n      <td>0.298142</td>\n      <td>0.000000</td>\n      <td>0.192450</td>\n      <td>0.430331</td>\n    </tr>\n    <tr>\n      <th>4</th>\n      <td>0.000000</td>\n      <td>0.000000</td>\n      <td>0.000000</td>\n      <td>0.333333</td>\n      <td>1.000000</td>\n      <td>0.000000</td>\n      <td>0.223607</td>\n      <td>0.000000</td>\n      <td>0.000000</td>\n      <td>0.258199</td>\n    </tr>\n    <tr>\n      <th>5</th>\n      <td>0.000000</td>\n      <td>0.000000</td>\n      <td>0.000000</td>\n      <td>0.000000</td>\n      <td>0.000000</td>\n      <td>1.000000</td>\n      <td>0.258199</td>\n      <td>0.000000</td>\n      <td>0.166667</td>\n      <td>0.000000</td>\n    </tr>\n    <tr>\n      <th>6</th>\n      <td>0.298142</td>\n      <td>0.000000</td>\n      <td>0.169031</td>\n      <td>0.298142</td>\n      <td>0.223607</td>\n      <td>0.258199</td>\n      <td>1.000000</td>\n      <td>0.000000</td>\n      <td>0.387298</td>\n      <td>0.115470</td>\n    </tr>\n    <tr>\n      <th>7</th>\n      <td>0.272166</td>\n      <td>0.144338</td>\n      <td>0.000000</td>\n      <td>0.000000</td>\n      <td>0.000000</td>\n      <td>0.000000</td>\n      <td>0.000000</td>\n      <td>1.000000</td>\n      <td>0.117851</td>\n      <td>0.316228</td>\n    </tr>\n    <tr>\n      <th>8</th>\n      <td>0.288675</td>\n      <td>0.408248</td>\n      <td>0.436436</td>\n      <td>0.192450</td>\n      <td>0.000000</td>\n      <td>0.166667</td>\n      <td>0.387298</td>\n      <td>0.117851</td>\n      <td>1.000000</td>\n      <td>0.223607</td>\n    </tr>\n    <tr>\n      <th>9</th>\n      <td>0.086066</td>\n      <td>0.365148</td>\n      <td>0.292770</td>\n      <td>0.430331</td>\n      <td>0.258199</td>\n      <td>0.000000</td>\n      <td>0.115470</td>\n      <td>0.316228</td>\n      <td>0.223607</td>\n      <td>1.000000</td>\n    </tr>\n  </tbody>\n</table>\n</div>"
          },
          "metadata": {}
        }
      ]
    },
    {
      "cell_type": "code",
      "source": "# Pick a user ID\npicked_userid = 1\n# Remove picked user ID from the candidate list\nuser_similarity.drop(index=picked_userid, inplace=True)\n# Take a look at the data\nuser_similarity.head()",
      "metadata": {
        "trusted": true
      },
      "execution_count": 361,
      "outputs": [
        {
          "execution_count": 361,
          "output_type": "execute_result",
          "data": {
            "text/plain": "          0         1         2         3         4    5         6         7  \\\n0  1.000000  0.353553  0.000000  0.111111  0.000000  0.0  0.298142  0.272166   \n2  0.000000  0.400892  1.000000  0.377964  0.000000  0.0  0.169031  0.000000   \n3  0.111111  0.235702  0.377964  1.000000  0.333333  0.0  0.298142  0.000000   \n4  0.000000  0.000000  0.000000  0.333333  1.000000  0.0  0.223607  0.000000   \n5  0.000000  0.000000  0.000000  0.000000  0.000000  1.0  0.258199  0.000000   \n\n          8         9  \n0  0.288675  0.086066  \n2  0.436436  0.292770  \n3  0.192450  0.430331  \n4  0.000000  0.258199  \n5  0.166667  0.000000  ",
            "text/html": "<div>\n<style scoped>\n    .dataframe tbody tr th:only-of-type {\n        vertical-align: middle;\n    }\n\n    .dataframe tbody tr th {\n        vertical-align: top;\n    }\n\n    .dataframe thead th {\n        text-align: right;\n    }\n</style>\n<table border=\"1\" class=\"dataframe\">\n  <thead>\n    <tr style=\"text-align: right;\">\n      <th></th>\n      <th>0</th>\n      <th>1</th>\n      <th>2</th>\n      <th>3</th>\n      <th>4</th>\n      <th>5</th>\n      <th>6</th>\n      <th>7</th>\n      <th>8</th>\n      <th>9</th>\n    </tr>\n  </thead>\n  <tbody>\n    <tr>\n      <th>0</th>\n      <td>1.000000</td>\n      <td>0.353553</td>\n      <td>0.000000</td>\n      <td>0.111111</td>\n      <td>0.000000</td>\n      <td>0.0</td>\n      <td>0.298142</td>\n      <td>0.272166</td>\n      <td>0.288675</td>\n      <td>0.086066</td>\n    </tr>\n    <tr>\n      <th>2</th>\n      <td>0.000000</td>\n      <td>0.400892</td>\n      <td>1.000000</td>\n      <td>0.377964</td>\n      <td>0.000000</td>\n      <td>0.0</td>\n      <td>0.169031</td>\n      <td>0.000000</td>\n      <td>0.436436</td>\n      <td>0.292770</td>\n    </tr>\n    <tr>\n      <th>3</th>\n      <td>0.111111</td>\n      <td>0.235702</td>\n      <td>0.377964</td>\n      <td>1.000000</td>\n      <td>0.333333</td>\n      <td>0.0</td>\n      <td>0.298142</td>\n      <td>0.000000</td>\n      <td>0.192450</td>\n      <td>0.430331</td>\n    </tr>\n    <tr>\n      <th>4</th>\n      <td>0.000000</td>\n      <td>0.000000</td>\n      <td>0.000000</td>\n      <td>0.333333</td>\n      <td>1.000000</td>\n      <td>0.0</td>\n      <td>0.223607</td>\n      <td>0.000000</td>\n      <td>0.000000</td>\n      <td>0.258199</td>\n    </tr>\n    <tr>\n      <th>5</th>\n      <td>0.000000</td>\n      <td>0.000000</td>\n      <td>0.000000</td>\n      <td>0.000000</td>\n      <td>0.000000</td>\n      <td>1.0</td>\n      <td>0.258199</td>\n      <td>0.000000</td>\n      <td>0.166667</td>\n      <td>0.000000</td>\n    </tr>\n  </tbody>\n</table>\n</div>"
          },
          "metadata": {}
        }
      ]
    },
    {
      "cell_type": "code",
      "source": "# Number of similar users\nn = 10\n# User similarity threashold\nuser_similarity_threshold = 0.3\n# Get top n similar users\nsimilar_users = user_similarity[user_similarity[picked_userid]>user_similarity_threshold][picked_userid].sort_values(ascending=False)[:n]\n\n# Print out top n similar users\nprint(f'The similar users for user {picked_userid} are\\n', similar_users)",
      "metadata": {
        "trusted": true
      },
      "execution_count": 362,
      "outputs": [
        {
          "name": "stdout",
          "text": "The similar users for user 1 are\n 8    0.408248\n2    0.400892\n9    0.365148\n0    0.353553\nName: 1, dtype: float64\n",
          "output_type": "stream"
        }
      ]
    },
    {
      "cell_type": "code",
      "source": "",
      "metadata": {
        "trusted": true
      },
      "execution_count": null,
      "outputs": []
    },
    {
      "cell_type": "code",
      "source": "df[df['StudentID'] == 1]",
      "metadata": {
        "trusted": true
      },
      "execution_count": 363,
      "outputs": [
        {
          "execution_count": 363,
          "output_type": "execute_result",
          "data": {
            "text/plain": "    StudentID  BookID                                       Title  \\\n0           1     208                                 Animal Farm   \n3           1      98                   Age of Discontuinity, The   \n6           1      18                        New Machiavelli, The   \n10          1     114                       Rationality & Freedom   \n12          1       8  Image Processing & Mathematical Morphology   \n13          1     102                       Beyond the Three Seas   \n14          1       1                                  Data Smart   \n16          1       2                    God Created the Integers   \n19          1       3                           Superfreakonomics   \n\n                Author              Genre  Height      Publisher  borrowed  \n0       Orwell, George            fiction     180            NaN         1  \n3       Drucker, Peter          economics     178   Random House         1  \n6         Wells, H. G.            fiction     180        Penguin         1  \n10        Sen, Amartya          economics     213       Springer         1  \n12         Shih, Frank  signal_processing     241            CRC         1  \n13  Dalrymple, William            history     197   Random House         1  \n14       Foreman, John       data_science     235          Wiley         1  \n16    Hawking, Stephen        mathematics     197        Penguin         1  \n19     Dubner, Stephen          economics     179  HarperCollins         1  ",
            "text/html": "<div>\n<style scoped>\n    .dataframe tbody tr th:only-of-type {\n        vertical-align: middle;\n    }\n\n    .dataframe tbody tr th {\n        vertical-align: top;\n    }\n\n    .dataframe thead th {\n        text-align: right;\n    }\n</style>\n<table border=\"1\" class=\"dataframe\">\n  <thead>\n    <tr style=\"text-align: right;\">\n      <th></th>\n      <th>StudentID</th>\n      <th>BookID</th>\n      <th>Title</th>\n      <th>Author</th>\n      <th>Genre</th>\n      <th>Height</th>\n      <th>Publisher</th>\n      <th>borrowed</th>\n    </tr>\n  </thead>\n  <tbody>\n    <tr>\n      <th>0</th>\n      <td>1</td>\n      <td>208</td>\n      <td>Animal Farm</td>\n      <td>Orwell, George</td>\n      <td>fiction</td>\n      <td>180</td>\n      <td>NaN</td>\n      <td>1</td>\n    </tr>\n    <tr>\n      <th>3</th>\n      <td>1</td>\n      <td>98</td>\n      <td>Age of Discontuinity, The</td>\n      <td>Drucker, Peter</td>\n      <td>economics</td>\n      <td>178</td>\n      <td>Random House</td>\n      <td>1</td>\n    </tr>\n    <tr>\n      <th>6</th>\n      <td>1</td>\n      <td>18</td>\n      <td>New Machiavelli, The</td>\n      <td>Wells, H. G.</td>\n      <td>fiction</td>\n      <td>180</td>\n      <td>Penguin</td>\n      <td>1</td>\n    </tr>\n    <tr>\n      <th>10</th>\n      <td>1</td>\n      <td>114</td>\n      <td>Rationality &amp; Freedom</td>\n      <td>Sen, Amartya</td>\n      <td>economics</td>\n      <td>213</td>\n      <td>Springer</td>\n      <td>1</td>\n    </tr>\n    <tr>\n      <th>12</th>\n      <td>1</td>\n      <td>8</td>\n      <td>Image Processing &amp; Mathematical Morphology</td>\n      <td>Shih, Frank</td>\n      <td>signal_processing</td>\n      <td>241</td>\n      <td>CRC</td>\n      <td>1</td>\n    </tr>\n    <tr>\n      <th>13</th>\n      <td>1</td>\n      <td>102</td>\n      <td>Beyond the Three Seas</td>\n      <td>Dalrymple, William</td>\n      <td>history</td>\n      <td>197</td>\n      <td>Random House</td>\n      <td>1</td>\n    </tr>\n    <tr>\n      <th>14</th>\n      <td>1</td>\n      <td>1</td>\n      <td>Data Smart</td>\n      <td>Foreman, John</td>\n      <td>data_science</td>\n      <td>235</td>\n      <td>Wiley</td>\n      <td>1</td>\n    </tr>\n    <tr>\n      <th>16</th>\n      <td>1</td>\n      <td>2</td>\n      <td>God Created the Integers</td>\n      <td>Hawking, Stephen</td>\n      <td>mathematics</td>\n      <td>197</td>\n      <td>Penguin</td>\n      <td>1</td>\n    </tr>\n    <tr>\n      <th>19</th>\n      <td>1</td>\n      <td>3</td>\n      <td>Superfreakonomics</td>\n      <td>Dubner, Stephen</td>\n      <td>economics</td>\n      <td>179</td>\n      <td>HarperCollins</td>\n      <td>1</td>\n    </tr>\n  </tbody>\n</table>\n</div>"
          },
          "metadata": {}
        }
      ]
    },
    {
      "cell_type": "code",
      "source": "df[df['StudentID'] == 8]",
      "metadata": {
        "trusted": true
      },
      "execution_count": 364,
      "outputs": [
        {
          "execution_count": 364,
          "output_type": "execute_result",
          "data": {
            "text/plain": "    StudentID  BookID                                Title  \\\n8           8      18                 New Machiavelli, The   \n11          8     114                Rationality & Freedom   \n66          8      36                         Veteran, The   \n69          8     103  World's Greatest Short Stories, The   \n70          8     119                     To Sir With Love   \n71          8      51                      In a Free State   \n\n                Author      Genre  Height   Publisher  borrowed  \n8         Wells, H. G.    fiction     180     Penguin         1  \n11        Sen, Amartya  economics     213    Springer         1  \n66  Forsyth, Frederick    fiction     177  Transworld         1  \n69                 NaN    fiction     217       Jaico         1  \n70         Braithwaite    fiction     197     Penguin         1  \n71      Naipaul, V. S.    fiction     196        Rupa         1  ",
            "text/html": "<div>\n<style scoped>\n    .dataframe tbody tr th:only-of-type {\n        vertical-align: middle;\n    }\n\n    .dataframe tbody tr th {\n        vertical-align: top;\n    }\n\n    .dataframe thead th {\n        text-align: right;\n    }\n</style>\n<table border=\"1\" class=\"dataframe\">\n  <thead>\n    <tr style=\"text-align: right;\">\n      <th></th>\n      <th>StudentID</th>\n      <th>BookID</th>\n      <th>Title</th>\n      <th>Author</th>\n      <th>Genre</th>\n      <th>Height</th>\n      <th>Publisher</th>\n      <th>borrowed</th>\n    </tr>\n  </thead>\n  <tbody>\n    <tr>\n      <th>8</th>\n      <td>8</td>\n      <td>18</td>\n      <td>New Machiavelli, The</td>\n      <td>Wells, H. G.</td>\n      <td>fiction</td>\n      <td>180</td>\n      <td>Penguin</td>\n      <td>1</td>\n    </tr>\n    <tr>\n      <th>11</th>\n      <td>8</td>\n      <td>114</td>\n      <td>Rationality &amp; Freedom</td>\n      <td>Sen, Amartya</td>\n      <td>economics</td>\n      <td>213</td>\n      <td>Springer</td>\n      <td>1</td>\n    </tr>\n    <tr>\n      <th>66</th>\n      <td>8</td>\n      <td>36</td>\n      <td>Veteran, The</td>\n      <td>Forsyth, Frederick</td>\n      <td>fiction</td>\n      <td>177</td>\n      <td>Transworld</td>\n      <td>1</td>\n    </tr>\n    <tr>\n      <th>69</th>\n      <td>8</td>\n      <td>103</td>\n      <td>World's Greatest Short Stories, The</td>\n      <td>NaN</td>\n      <td>fiction</td>\n      <td>217</td>\n      <td>Jaico</td>\n      <td>1</td>\n    </tr>\n    <tr>\n      <th>70</th>\n      <td>8</td>\n      <td>119</td>\n      <td>To Sir With Love</td>\n      <td>Braithwaite</td>\n      <td>fiction</td>\n      <td>197</td>\n      <td>Penguin</td>\n      <td>1</td>\n    </tr>\n    <tr>\n      <th>71</th>\n      <td>8</td>\n      <td>51</td>\n      <td>In a Free State</td>\n      <td>Naipaul, V. S.</td>\n      <td>fiction</td>\n      <td>196</td>\n      <td>Rupa</td>\n      <td>1</td>\n    </tr>\n  </tbody>\n</table>\n</div>"
          },
          "metadata": {}
        }
      ]
    },
    {
      "cell_type": "code",
      "source": "# Movies that the target user has watched\npicked_userid_watched = matrix[matrix.index == picked_userid].dropna(axis=1, how='all')\npicked_userid_watched",
      "metadata": {
        "trusted": true
      },
      "execution_count": 365,
      "outputs": [
        {
          "execution_count": 365,
          "output_type": "execute_result",
          "data": {
            "text/plain": "Title      Age of Discontuinity, The  Animal Farm  Beyond the Three Seas  \\\nStudentID                                                                  \n1                                1.0          1.0                    1.0   \n\nTitle      Data Smart  God Created the Integers  \\\nStudentID                                         \n1                 1.0                       1.0   \n\nTitle      Image Processing & Mathematical Morphology  New Machiavelli, The  \\\nStudentID                                                                     \n1                                                 1.0                   1.0   \n\nTitle      Rationality & Freedom  Superfreakonomics  \nStudentID                                            \n1                            1.0                1.0  ",
            "text/html": "<div>\n<style scoped>\n    .dataframe tbody tr th:only-of-type {\n        vertical-align: middle;\n    }\n\n    .dataframe tbody tr th {\n        vertical-align: top;\n    }\n\n    .dataframe thead th {\n        text-align: right;\n    }\n</style>\n<table border=\"1\" class=\"dataframe\">\n  <thead>\n    <tr style=\"text-align: right;\">\n      <th>Title</th>\n      <th>Age of Discontuinity, The</th>\n      <th>Animal Farm</th>\n      <th>Beyond the Three Seas</th>\n      <th>Data Smart</th>\n      <th>God Created the Integers</th>\n      <th>Image Processing &amp; Mathematical Morphology</th>\n      <th>New Machiavelli, The</th>\n      <th>Rationality &amp; Freedom</th>\n      <th>Superfreakonomics</th>\n    </tr>\n    <tr>\n      <th>StudentID</th>\n      <th></th>\n      <th></th>\n      <th></th>\n      <th></th>\n      <th></th>\n      <th></th>\n      <th></th>\n      <th></th>\n      <th></th>\n    </tr>\n  </thead>\n  <tbody>\n    <tr>\n      <th>1</th>\n      <td>1.0</td>\n      <td>1.0</td>\n      <td>1.0</td>\n      <td>1.0</td>\n      <td>1.0</td>\n      <td>1.0</td>\n      <td>1.0</td>\n      <td>1.0</td>\n      <td>1.0</td>\n    </tr>\n  </tbody>\n</table>\n</div>"
          },
          "metadata": {}
        }
      ]
    },
    {
      "cell_type": "code",
      "source": "# Movies that similar users watched. Remove movies that none of the similar users have watched\nsimilar_user_movies = matrix[matrix.index.isin(similar_users.index)].dropna(axis=1, how='all')\nsimilar_user_movies",
      "metadata": {
        "trusted": true
      },
      "execution_count": 366,
      "outputs": [
        {
          "execution_count": 366,
          "output_type": "execute_result",
          "data": {
            "text/plain": "Title      Age of Discontuinity, The  Age of Wrath, The  \\\nStudentID                                                 \n2                                1.0                1.0   \n8                                NaN                NaN   \n9                                1.0                NaN   \n\nTitle      All the President's Men  Animal Farm  Case of the Lame Canary, The  \\\nStudentID                                                                       \n2                              1.0          1.0                           NaN   \n8                              NaN          NaN                           NaN   \n9                              NaN          1.0                           1.0   \n\nTitle      Down and Out in Paris & London  God Created the Integers  \\\nStudentID                                                             \n2                                     NaN                       NaN   \n8                                     NaN                       NaN   \n9                                     1.0                       1.0   \n\nTitle      In a Free State  Integration of the Indian States  \\\nStudentID                                                      \n2                      NaN                               1.0   \n8                      1.0                               NaN   \n9                      NaN                               1.0   \n\nTitle      Introduction to Algorithms  New Machiavelli, The  O Jerusalem!  \\\nStudentID                                                                   \n2                                 NaN                   1.0           1.0   \n8                                 NaN                   1.0           NaN   \n9                                 1.0                   NaN           NaN   \n\nTitle      Orientalism  Pillars of the Earth, The  Rationality & Freedom  \\\nStudentID                                                                  \n2                  NaN                        NaN                    NaN   \n8                  NaN                        NaN                    1.0   \n9                  1.0                        1.0                    NaN   \n\nTitle      Scoop!  Structure & Interpretation of Computer Programs  \\\nStudentID                                                            \n2             1.0                                              NaN   \n8             NaN                                              NaN   \n9             1.0                                              1.0   \n\nTitle      To Sir With Love  Veteran, The  World's Greatest Short Stories, The  \nStudentID                                                                       \n2                       NaN           NaN                                  NaN  \n8                       1.0           1.0                                  1.0  \n9                       NaN           1.0                                  NaN  ",
            "text/html": "<div>\n<style scoped>\n    .dataframe tbody tr th:only-of-type {\n        vertical-align: middle;\n    }\n\n    .dataframe tbody tr th {\n        vertical-align: top;\n    }\n\n    .dataframe thead th {\n        text-align: right;\n    }\n</style>\n<table border=\"1\" class=\"dataframe\">\n  <thead>\n    <tr style=\"text-align: right;\">\n      <th>Title</th>\n      <th>Age of Discontuinity, The</th>\n      <th>Age of Wrath, The</th>\n      <th>All the President's Men</th>\n      <th>Animal Farm</th>\n      <th>Case of the Lame Canary, The</th>\n      <th>Down and Out in Paris &amp; London</th>\n      <th>God Created the Integers</th>\n      <th>In a Free State</th>\n      <th>Integration of the Indian States</th>\n      <th>Introduction to Algorithms</th>\n      <th>New Machiavelli, The</th>\n      <th>O Jerusalem!</th>\n      <th>Orientalism</th>\n      <th>Pillars of the Earth, The</th>\n      <th>Rationality &amp; Freedom</th>\n      <th>Scoop!</th>\n      <th>Structure &amp; Interpretation of Computer Programs</th>\n      <th>To Sir With Love</th>\n      <th>Veteran, The</th>\n      <th>World's Greatest Short Stories, The</th>\n    </tr>\n    <tr>\n      <th>StudentID</th>\n      <th></th>\n      <th></th>\n      <th></th>\n      <th></th>\n      <th></th>\n      <th></th>\n      <th></th>\n      <th></th>\n      <th></th>\n      <th></th>\n      <th></th>\n      <th></th>\n      <th></th>\n      <th></th>\n      <th></th>\n      <th></th>\n      <th></th>\n      <th></th>\n      <th></th>\n      <th></th>\n    </tr>\n  </thead>\n  <tbody>\n    <tr>\n      <th>2</th>\n      <td>1.0</td>\n      <td>1.0</td>\n      <td>1.0</td>\n      <td>1.0</td>\n      <td>NaN</td>\n      <td>NaN</td>\n      <td>NaN</td>\n      <td>NaN</td>\n      <td>1.0</td>\n      <td>NaN</td>\n      <td>1.0</td>\n      <td>1.0</td>\n      <td>NaN</td>\n      <td>NaN</td>\n      <td>NaN</td>\n      <td>1.0</td>\n      <td>NaN</td>\n      <td>NaN</td>\n      <td>NaN</td>\n      <td>NaN</td>\n    </tr>\n    <tr>\n      <th>8</th>\n      <td>NaN</td>\n      <td>NaN</td>\n      <td>NaN</td>\n      <td>NaN</td>\n      <td>NaN</td>\n      <td>NaN</td>\n      <td>NaN</td>\n      <td>1.0</td>\n      <td>NaN</td>\n      <td>NaN</td>\n      <td>1.0</td>\n      <td>NaN</td>\n      <td>NaN</td>\n      <td>NaN</td>\n      <td>1.0</td>\n      <td>NaN</td>\n      <td>NaN</td>\n      <td>1.0</td>\n      <td>1.0</td>\n      <td>1.0</td>\n    </tr>\n    <tr>\n      <th>9</th>\n      <td>1.0</td>\n      <td>NaN</td>\n      <td>NaN</td>\n      <td>1.0</td>\n      <td>1.0</td>\n      <td>1.0</td>\n      <td>1.0</td>\n      <td>NaN</td>\n      <td>1.0</td>\n      <td>1.0</td>\n      <td>NaN</td>\n      <td>NaN</td>\n      <td>1.0</td>\n      <td>1.0</td>\n      <td>NaN</td>\n      <td>1.0</td>\n      <td>1.0</td>\n      <td>NaN</td>\n      <td>1.0</td>\n      <td>NaN</td>\n    </tr>\n  </tbody>\n</table>\n</div>"
          },
          "metadata": {}
        }
      ]
    },
    {
      "cell_type": "code",
      "source": "# Remove the watched movie from the movie list\nsimilar_user_movies.drop(picked_userid_watched.columns,axis=1, inplace=True, errors='ignore')\n# Take a look at the data\nsimilar_user_movies",
      "metadata": {
        "trusted": true
      },
      "execution_count": 367,
      "outputs": [
        {
          "execution_count": 367,
          "output_type": "execute_result",
          "data": {
            "text/plain": "Title      Age of Wrath, The  All the President's Men  \\\nStudentID                                               \n2                        1.0                      1.0   \n8                        NaN                      NaN   \n9                        NaN                      NaN   \n\nTitle      Case of the Lame Canary, The  Down and Out in Paris & London  \\\nStudentID                                                                 \n2                                   NaN                             NaN   \n8                                   NaN                             NaN   \n9                                   1.0                             1.0   \n\nTitle      In a Free State  Integration of the Indian States  \\\nStudentID                                                      \n2                      NaN                               1.0   \n8                      1.0                               NaN   \n9                      NaN                               1.0   \n\nTitle      Introduction to Algorithms  O Jerusalem!  Orientalism  \\\nStudentID                                                          \n2                                 NaN           1.0          NaN   \n8                                 NaN           NaN          NaN   \n9                                 1.0           NaN          1.0   \n\nTitle      Pillars of the Earth, The  Scoop!  \\\nStudentID                                      \n2                                NaN     1.0   \n8                                NaN     NaN   \n9                                1.0     1.0   \n\nTitle      Structure & Interpretation of Computer Programs  To Sir With Love  \\\nStudentID                                                                      \n2                                                      NaN               NaN   \n8                                                      NaN               1.0   \n9                                                      1.0               NaN   \n\nTitle      Veteran, The  World's Greatest Short Stories, The  \nStudentID                                                     \n2                   NaN                                  NaN  \n8                   1.0                                  1.0  \n9                   1.0                                  NaN  ",
            "text/html": "<div>\n<style scoped>\n    .dataframe tbody tr th:only-of-type {\n        vertical-align: middle;\n    }\n\n    .dataframe tbody tr th {\n        vertical-align: top;\n    }\n\n    .dataframe thead th {\n        text-align: right;\n    }\n</style>\n<table border=\"1\" class=\"dataframe\">\n  <thead>\n    <tr style=\"text-align: right;\">\n      <th>Title</th>\n      <th>Age of Wrath, The</th>\n      <th>All the President's Men</th>\n      <th>Case of the Lame Canary, The</th>\n      <th>Down and Out in Paris &amp; London</th>\n      <th>In a Free State</th>\n      <th>Integration of the Indian States</th>\n      <th>Introduction to Algorithms</th>\n      <th>O Jerusalem!</th>\n      <th>Orientalism</th>\n      <th>Pillars of the Earth, The</th>\n      <th>Scoop!</th>\n      <th>Structure &amp; Interpretation of Computer Programs</th>\n      <th>To Sir With Love</th>\n      <th>Veteran, The</th>\n      <th>World's Greatest Short Stories, The</th>\n    </tr>\n    <tr>\n      <th>StudentID</th>\n      <th></th>\n      <th></th>\n      <th></th>\n      <th></th>\n      <th></th>\n      <th></th>\n      <th></th>\n      <th></th>\n      <th></th>\n      <th></th>\n      <th></th>\n      <th></th>\n      <th></th>\n      <th></th>\n      <th></th>\n    </tr>\n  </thead>\n  <tbody>\n    <tr>\n      <th>2</th>\n      <td>1.0</td>\n      <td>1.0</td>\n      <td>NaN</td>\n      <td>NaN</td>\n      <td>NaN</td>\n      <td>1.0</td>\n      <td>NaN</td>\n      <td>1.0</td>\n      <td>NaN</td>\n      <td>NaN</td>\n      <td>1.0</td>\n      <td>NaN</td>\n      <td>NaN</td>\n      <td>NaN</td>\n      <td>NaN</td>\n    </tr>\n    <tr>\n      <th>8</th>\n      <td>NaN</td>\n      <td>NaN</td>\n      <td>NaN</td>\n      <td>NaN</td>\n      <td>1.0</td>\n      <td>NaN</td>\n      <td>NaN</td>\n      <td>NaN</td>\n      <td>NaN</td>\n      <td>NaN</td>\n      <td>NaN</td>\n      <td>NaN</td>\n      <td>1.0</td>\n      <td>1.0</td>\n      <td>1.0</td>\n    </tr>\n    <tr>\n      <th>9</th>\n      <td>NaN</td>\n      <td>NaN</td>\n      <td>1.0</td>\n      <td>1.0</td>\n      <td>NaN</td>\n      <td>1.0</td>\n      <td>1.0</td>\n      <td>NaN</td>\n      <td>1.0</td>\n      <td>1.0</td>\n      <td>1.0</td>\n      <td>1.0</td>\n      <td>NaN</td>\n      <td>1.0</td>\n      <td>NaN</td>\n    </tr>\n  </tbody>\n</table>\n</div>"
          },
          "metadata": {}
        }
      ]
    },
    {
      "cell_type": "code",
      "source": "item_score = {}\n\n# Loop through items\nfor i in similar_user_movies.columns:\n    # Get the ratings for movie i\n    movie_rating = similar_user_movies[i]\n    # create a variable to store the score\n    total = 0\n    # create a variable to store the number of scores\n    count = 0\n    # Loop through similar users\n    for u in similar_users.index[0:-1]:\n        # if the movie has rating\n        if not pd.isna(movie_rating[u]):\n            # Score is the sum of user similarity score mutiply by the movie rating\n            score = similar_users[u] * movie_rating[u]\n            # Add the score to the total score for the movie so far\n            total += score\n            # Add 1 to the count\n            count += 1\n            \n    item_score[i] = total /count\n    \n# Convert dictionary to pandas dataframe\nitem_score = pd.DataFrame(item_score.items(), columns=['movie', 'movie_score'])\n    \n# Sort the movies by score\nranked_item_score = item_score.sort_values(by='movie_score', ascending=False)\n# Select top m movies\nm = 10\nranked_item_score.head(m)",
      "metadata": {
        "trusted": true
      },
      "execution_count": 375,
      "outputs": [
        {
          "execution_count": 375,
          "output_type": "execute_result",
          "data": {
            "text/plain": "                                  movie  movie_score\n4                       In a Free State     0.408248\n12                     To Sir With Love     0.408248\n14  World's Greatest Short Stories, The     0.408248\n0                     Age of Wrath, The     0.400892\n1               All the President's Men     0.400892\n7                          O Jerusalem!     0.400892\n13                         Veteran, The     0.386698\n5      Integration of the Indian States     0.383020\n10                               Scoop!     0.383020\n2          Case of the Lame Canary, The     0.365148",
            "text/html": "<div>\n<style scoped>\n    .dataframe tbody tr th:only-of-type {\n        vertical-align: middle;\n    }\n\n    .dataframe tbody tr th {\n        vertical-align: top;\n    }\n\n    .dataframe thead th {\n        text-align: right;\n    }\n</style>\n<table border=\"1\" class=\"dataframe\">\n  <thead>\n    <tr style=\"text-align: right;\">\n      <th></th>\n      <th>movie</th>\n      <th>movie_score</th>\n    </tr>\n  </thead>\n  <tbody>\n    <tr>\n      <th>4</th>\n      <td>In a Free State</td>\n      <td>0.408248</td>\n    </tr>\n    <tr>\n      <th>12</th>\n      <td>To Sir With Love</td>\n      <td>0.408248</td>\n    </tr>\n    <tr>\n      <th>14</th>\n      <td>World's Greatest Short Stories, The</td>\n      <td>0.408248</td>\n    </tr>\n    <tr>\n      <th>0</th>\n      <td>Age of Wrath, The</td>\n      <td>0.400892</td>\n    </tr>\n    <tr>\n      <th>1</th>\n      <td>All the President's Men</td>\n      <td>0.400892</td>\n    </tr>\n    <tr>\n      <th>7</th>\n      <td>O Jerusalem!</td>\n      <td>0.400892</td>\n    </tr>\n    <tr>\n      <th>13</th>\n      <td>Veteran, The</td>\n      <td>0.386698</td>\n    </tr>\n    <tr>\n      <th>5</th>\n      <td>Integration of the Indian States</td>\n      <td>0.383020</td>\n    </tr>\n    <tr>\n      <th>10</th>\n      <td>Scoop!</td>\n      <td>0.383020</td>\n    </tr>\n    <tr>\n      <th>2</th>\n      <td>Case of the Lame Canary, The</td>\n      <td>0.365148</td>\n    </tr>\n  </tbody>\n</table>\n</div>"
          },
          "metadata": {}
        }
      ]
    },
    {
      "cell_type": "code",
      "source": "df[df['StudentID'] == 1]",
      "metadata": {
        "trusted": true
      },
      "execution_count": 377,
      "outputs": [
        {
          "execution_count": 377,
          "output_type": "execute_result",
          "data": {
            "text/plain": "    StudentID  BookID                                       Title  \\\n0           1     208                                 Animal Farm   \n3           1      98                   Age of Discontuinity, The   \n6           1      18                        New Machiavelli, The   \n10          1     114                       Rationality & Freedom   \n12          1       8  Image Processing & Mathematical Morphology   \n13          1     102                       Beyond the Three Seas   \n14          1       1                                  Data Smart   \n16          1       2                    God Created the Integers   \n19          1       3                           Superfreakonomics   \n\n                Author              Genre  Height      Publisher  borrowed  \n0       Orwell, George            fiction     180            NaN         1  \n3       Drucker, Peter          economics     178   Random House         1  \n6         Wells, H. G.            fiction     180        Penguin         1  \n10        Sen, Amartya          economics     213       Springer         1  \n12         Shih, Frank  signal_processing     241            CRC         1  \n13  Dalrymple, William            history     197   Random House         1  \n14       Foreman, John       data_science     235          Wiley         1  \n16    Hawking, Stephen        mathematics     197        Penguin         1  \n19     Dubner, Stephen          economics     179  HarperCollins         1  ",
            "text/html": "<div>\n<style scoped>\n    .dataframe tbody tr th:only-of-type {\n        vertical-align: middle;\n    }\n\n    .dataframe tbody tr th {\n        vertical-align: top;\n    }\n\n    .dataframe thead th {\n        text-align: right;\n    }\n</style>\n<table border=\"1\" class=\"dataframe\">\n  <thead>\n    <tr style=\"text-align: right;\">\n      <th></th>\n      <th>StudentID</th>\n      <th>BookID</th>\n      <th>Title</th>\n      <th>Author</th>\n      <th>Genre</th>\n      <th>Height</th>\n      <th>Publisher</th>\n      <th>borrowed</th>\n    </tr>\n  </thead>\n  <tbody>\n    <tr>\n      <th>0</th>\n      <td>1</td>\n      <td>208</td>\n      <td>Animal Farm</td>\n      <td>Orwell, George</td>\n      <td>fiction</td>\n      <td>180</td>\n      <td>NaN</td>\n      <td>1</td>\n    </tr>\n    <tr>\n      <th>3</th>\n      <td>1</td>\n      <td>98</td>\n      <td>Age of Discontuinity, The</td>\n      <td>Drucker, Peter</td>\n      <td>economics</td>\n      <td>178</td>\n      <td>Random House</td>\n      <td>1</td>\n    </tr>\n    <tr>\n      <th>6</th>\n      <td>1</td>\n      <td>18</td>\n      <td>New Machiavelli, The</td>\n      <td>Wells, H. G.</td>\n      <td>fiction</td>\n      <td>180</td>\n      <td>Penguin</td>\n      <td>1</td>\n    </tr>\n    <tr>\n      <th>10</th>\n      <td>1</td>\n      <td>114</td>\n      <td>Rationality &amp; Freedom</td>\n      <td>Sen, Amartya</td>\n      <td>economics</td>\n      <td>213</td>\n      <td>Springer</td>\n      <td>1</td>\n    </tr>\n    <tr>\n      <th>12</th>\n      <td>1</td>\n      <td>8</td>\n      <td>Image Processing &amp; Mathematical Morphology</td>\n      <td>Shih, Frank</td>\n      <td>signal_processing</td>\n      <td>241</td>\n      <td>CRC</td>\n      <td>1</td>\n    </tr>\n    <tr>\n      <th>13</th>\n      <td>1</td>\n      <td>102</td>\n      <td>Beyond the Three Seas</td>\n      <td>Dalrymple, William</td>\n      <td>history</td>\n      <td>197</td>\n      <td>Random House</td>\n      <td>1</td>\n    </tr>\n    <tr>\n      <th>14</th>\n      <td>1</td>\n      <td>1</td>\n      <td>Data Smart</td>\n      <td>Foreman, John</td>\n      <td>data_science</td>\n      <td>235</td>\n      <td>Wiley</td>\n      <td>1</td>\n    </tr>\n    <tr>\n      <th>16</th>\n      <td>1</td>\n      <td>2</td>\n      <td>God Created the Integers</td>\n      <td>Hawking, Stephen</td>\n      <td>mathematics</td>\n      <td>197</td>\n      <td>Penguin</td>\n      <td>1</td>\n    </tr>\n    <tr>\n      <th>19</th>\n      <td>1</td>\n      <td>3</td>\n      <td>Superfreakonomics</td>\n      <td>Dubner, Stephen</td>\n      <td>economics</td>\n      <td>179</td>\n      <td>HarperCollins</td>\n      <td>1</td>\n    </tr>\n  </tbody>\n</table>\n</div>"
          },
          "metadata": {}
        }
      ]
    },
    {
      "cell_type": "code",
      "source": "",
      "metadata": {},
      "execution_count": null,
      "outputs": []
    }
  ]
}